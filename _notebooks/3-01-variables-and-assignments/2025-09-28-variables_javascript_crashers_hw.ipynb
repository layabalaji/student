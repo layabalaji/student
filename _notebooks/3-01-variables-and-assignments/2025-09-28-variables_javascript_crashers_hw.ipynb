{
 "cells": [
  {
   "cell_type": "raw",
   "id": "f7d70aa2",
   "metadata": {
    "vscode": {
     "languageId": "raw"
    }
   },
   "source": [
    "---\n",
    "layout: post\n",
    "title: \"3.1 Variables & Assignments hacks\"\n",
    "categories: [Programming Fundamentals, Tutorial]\n",
    "tags: [python, javascript, variables, assignment, beginner]\n",
    "description: Apply your understanding of Variables & Assignments with these hacks\n",
    "author: Aditya Srivastava, Laya Balaji\n",
    "permalink: /javascript/variables/crashers-hw\n",
    "---"
   ]
  },
  {
   "cell_type": "markdown",
   "id": "ce56910b",
   "metadata": {},
   "source": [
    "# 🐷 Peppa Maze Variables & Assignments Hacks\n",
    "Welcome to the Peppa Maze hacks! These challenges will test your understanding of variables, assignments, and logic in Javascript. Read each task, then write or modify code to solve it."
   ]
  },
  {
   "cell_type": "markdown",
   "id": "7dee3bb5",
   "metadata": {},
   "source": [
    "## Hack 1: JavaScript - Variable Assignment, Naming, and Operators\n",
    "Create variables for Peppa's name, score, and level using good JavaScript naming conventions. Assign initial values, then use operators to update score (add 10) and level (multiply by 2). Print all results."
   ]
  },
  {
   "cell_type": "code",
   "execution_count": 1,
   "id": "e4bee113",
   "metadata": {
    "vscode": {
     "languageId": "javascript"
    }
   },
   "outputs": [
    {
     "data": {
      "application/javascript": "// Create variables for Peppa's name, score, and level\nlet peppaName = \"Peppa Pig\";\nlet peppaScore = 50;\nlet peppaLevel = 3;\n\n// Update score by adding 10\npeppaScore += 10; // same as peppaScore = peppaScore + 10\n\n// Update level by multiplying by 2\npeppaLevel *= 2; // same as peppaLevel = peppaLevel * 2\n\n// Print all results\nconsole.log(\"Name:\", peppaName);\nconsole.log(\"Score:\", peppaScore);\nconsole.log(\"Level:\", peppaLevel);\n",
      "text/plain": [
       "<IPython.core.display.Javascript object>"
      ]
     },
     "metadata": {},
     "output_type": "display_data"
    }
   ],
   "source": [
    "%%javascript\n",
    "// Create variables for Peppa's name, score, and level\n",
    "let peppaName = \"Peppa Pig\";\n",
    "let peppaScore = 50;\n",
    "let peppaLevel = 3;\n",
    "\n",
    "// Update score by adding 10\n",
    "peppaScore += 10; // same as peppaScore = peppaScore + 10\n",
    "\n",
    "// Update level by multiplying by 2\n",
    "peppaLevel *= 2; // same as peppaLevel = peppaLevel * 2\n",
    "\n",
    "// Print all results\n",
    "console.log(\"Name:\", peppaName);\n",
    "console.log(\"Score:\", peppaScore);\n",
    "console.log(\"Level:\", peppaLevel);\n"
   ]
  },
  {
   "cell_type": "markdown",
   "id": "3f8a5cbe",
   "metadata": {},
   "source": [
    "## Hack 2: JavaScript - Variable Declaration, Assignment, and Operators\n",
    "Declare variables for Peppa and George's scores using good JavaScript naming conventions. Assign initial values, then use operators to update both scores (e.g., Peppa gets 15 points, George loses 5 points). Print both scores."
   ]
  },
  {
   "cell_type": "code",
   "execution_count": 2,
   "id": "c4c80df3",
   "metadata": {
    "vscode": {
     "languageId": "javascript"
    }
   },
   "outputs": [
    {
     "data": {
      "application/javascript": "// Declare variables for Peppa and George's scores\nlet peppaScore = 50;\nlet georgeScore = 40;\n\n// Update scores\npeppaScore += 15; // Peppa gets 15 points\ngeorgeScore -= 5; // George loses 5 points\n\n// Print both scores\nconsole.log(\"Peppa's Score:\", peppaScore);\nconsole.log(\"George's Score:\", georgeScore);\n",
      "text/plain": [
       "<IPython.core.display.Javascript object>"
      ]
     },
     "metadata": {},
     "output_type": "display_data"
    }
   ],
   "source": [
    "%%javascript\n",
    "// Declare variables for Peppa and George's scores\n",
    "let peppaScore = 50;\n",
    "let georgeScore = 40;\n",
    "\n",
    "// Update scores\n",
    "peppaScore += 15; // Peppa gets 15 points\n",
    "georgeScore -= 5; // George loses 5 points\n",
    "\n",
    "// Print both scores\n",
    "console.log(\"Peppa's Score:\", peppaScore);\n",
    "console.log(\"George's Score:\", georgeScore);\n"
   ]
  },
  {
   "cell_type": "markdown",
   "id": "30580c24",
   "metadata": {},
   "source": [
    "## Hack 3: JavaScript - Multiple Assignment and Math Operators\n",
    "Peppa and George both start at level 1. Use a single line to assign both their levels to 5. Then, calculate a combined score by multiplying their levels together and multiplying by 10. Print all results."
   ]
  },
  {
   "cell_type": "code",
   "execution_count": 3,
   "id": "67774ff3",
   "metadata": {
    "vscode": {
     "languageId": "javascript"
    }
   },
   "outputs": [
    {
     "data": {
      "application/javascript": "// Initial levels\nlet peppaLevel = 1, georgeLevel = 1;\n\n// Assign both levels to 5 in one line\npeppaLevel = georgeLevel = 5;\n\n// Calculate combined score\nlet combinedScore = peppaLevel * georgeLevel * 10;\n\n// Print all results\nconsole.log(\"Peppa's Level:\", peppaLevel);\nconsole.log(\"George's Level:\", georgeLevel);\nconsole.log(\"Combined Score:\", combinedScore);\n",
      "text/plain": [
       "<IPython.core.display.Javascript object>"
      ]
     },
     "metadata": {},
     "output_type": "display_data"
    }
   ],
   "source": [
    "%%javascript\n",
    "// Initial levels\n",
    "let peppaLevel = 1, georgeLevel = 1;\n",
    "\n",
    "// Assign both levels to 5 in one line\n",
    "peppaLevel = georgeLevel = 5;\n",
    "\n",
    "// Calculate combined score\n",
    "let combinedScore = peppaLevel * georgeLevel * 10;\n",
    "\n",
    "// Print all results\n",
    "console.log(\"Peppa's Level:\", peppaLevel);\n",
    "console.log(\"George's Level:\", georgeLevel);\n",
    "console.log(\"Combined Score:\", combinedScore);"
   ]
  }
 ],
 "metadata": {
  "kernelspec": {
   "display_name": "venv",
   "language": "python",
   "name": "python3"
  },
  "language_info": {
   "codemirror_mode": {
    "name": "ipython",
    "version": 3
   },
   "file_extension": ".py",
   "mimetype": "text/x-python",
   "name": "python",
   "nbconvert_exporter": "python",
   "pygments_lexer": "ipython3",
   "version": "3.13.7"
  }
 },
 "nbformat": 4,
 "nbformat_minor": 5
}
