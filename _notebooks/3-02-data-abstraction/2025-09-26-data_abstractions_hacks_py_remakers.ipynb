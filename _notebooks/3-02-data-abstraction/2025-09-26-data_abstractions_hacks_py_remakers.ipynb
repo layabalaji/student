{
 "cells": [
  {
   "cell_type": "code",
   "execution_count": null,
   "id": "ca7c3f46",
   "metadata": {},
   "outputs": [],
   "source": [
    "---\n",
    "toc: true\n",
    "comments: false\n",
    "layout: post\n",
    "categories: [CSP Big Idea 3]\n",
    "title: 3.2 Data Abstractions Python Hack\n",
    "author: Jaynee Chauhan, Michelle Ji, Lucas Masterson\n",
    "description: Hack(s) for intro to data abstractions in Python.\n",
    "type: ccc\n",
    "permalink: /csp/big-idea-3/data-abstractions/p4/hacks-py\n",
    "---"
   ]
  },
  {
   "cell_type": "markdown",
   "id": "14d2f5f9",
   "metadata": {},
   "source": [
    "## Python Lab: Simple DBs\n",
    "\n",
    "In this lab, you'll be working on a simple \"database\" system consisting of dictionaries. The idea here is to understand some basic CRUD actions and how you can use data abstractions (dictionaries in this case) to represent redundant, similar data under a unified structure.\n",
    "\n",
    "You'll have to do some research about some Python syntax for this!\n",
    "\n",
    "You can complete the Python lab by simply running your code and getting your outputs in the Jupyter notebook."
   ]
  },
  {
   "cell_type": "code",
   "execution_count": 3,
   "id": "04367227",
   "metadata": {},
   "outputs": [
    {
     "name": "stdout",
     "output_type": "stream",
     "text": [
      "All records in the list:\n",
      "Index 0: {'name': 'Alice', 'age': 16, 'grade': 'A'}\n",
      "Index 1: {'name': 'Bob', 'age': 17, 'grade': 'B'}\n",
      "Index 2: {'name': 'Charlie', 'age': 16, 'grade': 'C'}\n",
      "Record for Alice added successfully!\n",
      "Record found: {'name': 'Alice', 'age': 16, 'grade': 'A'}\n",
      "Current record: {'name': 'Bob', 'age': 17, 'grade': 'B'}\n",
      "Record updated successfully: {'name': 'Bella', 'age': 12, 'grade': '4'}\n",
      "Record for 'Charlie' deleted successfully!\n"
     ]
    }
   ],
   "source": [
    "# Our \"database\" is a list of dictionaries, each representing a record (e.g., a student)\n",
    "# Lists allow us to store multiple records in a single variable, making it easy to manage collections of data.\n",
    "db = [\n",
    "    {\"name\": \"Alice\", \"age\": 16, \"grade\": \"A\"},\n",
    "    {\"name\": \"Bob\", \"age\": 17, \"grade\": \"B\"},\n",
    "    {\"name\": \"Charlie\", \"age\": 16, \"grade\": \"C\"}\n",
    "]\n",
    "\n",
    "# Lists provide order and allow us to add, remove, or update records efficiently.\n",
    "# Each element in the list is a dictionary, which abstracts the details of each student.\n",
    "\n",
    "# Function to display all records\n",
    "def display_db(database):\n",
    "    print(\"All records in the list:\")\n",
    "    for i, record in enumerate(database):\n",
    "        print(f\"Index {i}: {record}\")\n",
    "\n",
    "# Function to add a new record (students: implement input and append logic)\n",
    "def add_record(database):\n",
    "    name = input(\"Enter student's name: Alice \")\n",
    "    age = int(input(\"Enter student's age:13 \"))\n",
    "    grade = input(\"Enter student's grade:9\")\n",
    "\n",
    "    new_record = {\"name\": name, \"age\": age, \"grade\": grade}\n",
    "    database.append(new_record)\n",
    "    print(f\"Record for {name} added successfully!\")\n",
    "    pass\n",
    "\n",
    "# Function to find a record by name (students: implement search logic)\n",
    "def find_record(database, search_name):\n",
    "    for record in database:\n",
    "            if record[\"name\"].lower() == search_name.lower():\n",
    "                print(\"Record found:\", record)\n",
    "                return record\n",
    "    print(f\"No record found for '{search_name}'\")\n",
    "    pass\n",
    "\n",
    "# Function to update a record (students: implement update logic)\n",
    "def update_record(database, search_name):\n",
    "    for record in database:\n",
    "        if record[\"name\"].lower() == search_name.lower():\n",
    "            print(\"Current record:\", record)\n",
    "            new_name = input(\"Enter new name (leave blank to keep same): \")\n",
    "            new_age = input(\"Enter new age (leave blank to keep same): \")\n",
    "            new_grade = input(\"Enter new grade (leave blank to keep same): \")\n",
    "\n",
    "            if new_name:\n",
    "                record[\"name\"] = new_name\n",
    "            if new_age:\n",
    "                record[\"age\"] = int(new_age)\n",
    "            if new_grade:\n",
    "                record[\"grade\"] = new_grade\n",
    "\n",
    "            print(\"Record updated successfully:\", record)\n",
    "            return\n",
    "    print(f\"No record found for '{search_name}'\")\n",
    "    pass\n",
    "\n",
    "# Function to delete a record (students: implement delete logic)\n",
    "def delete_record(database, search_name):\n",
    "    for i, record in enumerate(database):\n",
    "        if record[\"name\"].lower() == search_name.lower():\n",
    "            del database[i]\n",
    "            print(f\"Record for '{search_name}' deleted successfully!\")\n",
    "            return\n",
    "    print(f\"No record found for '{search_name}'\")\n",
    "    pass\n",
    "\n",
    "# Example usage\n",
    "display_db(db)\n",
    "# Students: Uncomment and complete the following as you implement\n",
    "add_record(db)\n",
    "find_record(db, \"Alice\")\n",
    "update_record(db, \"Bob\")\n",
    "delete_record(db, \"Charlie\")"
   ]
  }
 ],
 "metadata": {
  "kernelspec": {
   "display_name": "venv",
   "language": "python",
   "name": "python3"
  },
  "language_info": {
   "codemirror_mode": {
    "name": "ipython",
    "version": 3
   },
   "file_extension": ".py",
   "mimetype": "text/x-python",
   "name": "python",
   "nbconvert_exporter": "python",
   "pygments_lexer": "ipython3",
   "version": "3.13.7"
  }
 },
 "nbformat": 4,
 "nbformat_minor": 5
}
