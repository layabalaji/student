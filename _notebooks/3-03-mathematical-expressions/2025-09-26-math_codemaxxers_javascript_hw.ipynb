{
 "cells": [
  {
   "cell_type": "raw",
   "id": "6290bcd2",
   "metadata": {
    "vscode": {
     "languageId": "raw"
    }
   },
   "source": [
    "---\n",
    "title: \"Mathematical Operations in Javascript and Python - Hacks\"\n",
    "description: \"Apply your skills of math, logic, and coding.\"\n",
    "layout: post\n",
    "permalink: /javascript/mathematical-expressions/codemaxxers-hw\n",
    "---"
   ]
  },
  {
   "cell_type": "markdown",
   "id": "d98b569e",
   "metadata": {},
   "source": [
    "# Basic Algebraic Math hacks\n",
    "\n",
    "## Q1 (Exponents):\n",
    "### A cube has a side length of 6 units. What is its volume?"
   ]
  },
  {
   "cell_type": "code",
   "execution_count": 16,
   "id": "235ceb13",
   "metadata": {
    "vscode": {
     "languageId": "javascript"
    }
   },
   "outputs": [
    {
     "data": {
      "application/javascript": "\nside1 = 6\nside2 = side1\nside3 = side2\n\nvolume1 = side1 * side2 * side3 \n\nconsole.log(\"Volume =\", volume1);\n",
      "text/plain": [
       "<IPython.core.display.Javascript object>"
      ]
     },
     "metadata": {},
     "output_type": "display_data"
    }
   ],
   "source": [
    "%%js\n",
    "\n",
    "side1 = 6\n",
    "side2 = side1\n",
    "side3 = side2\n",
    "\n",
    "volume1 = side1 * side2 * side3 \n",
    "\n",
    "console.log(\"Volume =\", volume1);"
   ]
  },
  {
   "cell_type": "markdown",
   "id": "3fb1dd4d",
   "metadata": {},
   "source": [
    "## Q2 (PEMDAS):\n",
    "### Evaluate the expression: \n",
    "\n",
    "(7+14)*5/12 + 2"
   ]
  },
  {
   "cell_type": "code",
   "execution_count": 2,
   "id": "49d712a3",
   "metadata": {
    "vscode": {
     "languageId": "javascript"
    }
   },
   "outputs": [
    {
     "name": "stdout",
     "output_type": "stream",
     "text": [
      "10.75\n"
     ]
    }
   ],
   "source": [
    "grade1 = 7\n",
    "grade2 = 14\n",
    "grade3 = 5\n",
    "grade4 = 12\n",
    "grade5 = 2\n",
    "answerGrade = (grade1 + grade2)*grade3/grade4 + grade5\n",
    "print(answerGrade)"
   ]
  },
  {
   "cell_type": "markdown",
   "id": "fcaa4762",
   "metadata": {},
   "source": [
    "## Q3 (Algorithm): \n",
    "\n",
    "Write JavaScript  code where you define variables and run commands that find the values of operations you apply onto them"
   ]
  },
  {
   "cell_type": "code",
   "execution_count": 12,
   "id": "0a2081a9",
   "metadata": {
    "vscode": {
     "languageId": "javascript"
    }
   },
   "outputs": [
    {
     "data": {
      "application/javascript": "let a = 2;\nlet b = 6;\nlet c = 19;\nlet d = 1;\nlet e = 17;\n\n// Step by step operations\nlet sum = a + b;          // (7 + 14)\nlet product = sum * c;    // (7 + 14) * 5\nlet division = product / d; // ((7 + 14) * 5) / 12\nlet result = division + e;  // (((7 + 14) * 5) / 12) + 2\n\n// Print results\nprint(\"a + b =\", sum);\nprint(\"(a + b) * c =\", product);\nprint(\"((a + b) * c) / d =\", division);\nprint(\"Final result =\", result);\n",
      "text/plain": [
       "<IPython.core.display.Javascript object>"
      ]
     },
     "metadata": {},
     "output_type": "display_data"
    }
   ],
   "source": [
    "%%js\n",
    "let a = 2;\n",
    "let b = 6;\n",
    "let c = 19;\n",
    "let d = 1;\n",
    "let e = 17;\n",
    "\n",
    "// Step by step operations\n",
    "let sum = a + b;          // (7 + 14)\n",
    "let product = sum * c;    // (7 + 14) * 5\n",
    "let division = product / d; // ((7 + 14) * 5) / 12\n",
    "let result = division + e;  // (((7 + 14) * 5) / 12) + 2\n",
    "\n",
    "// Print results\n",
    "print(\"a + b =\", sum);\n",
    "print(\"(a + b) * c =\", product);\n",
    "print(\"((a + b) * c) / d =\", division);\n",
    "print(\"Final result =\", result);\n"
   ]
  },
  {
   "cell_type": "markdown",
   "id": "7927eeac",
   "metadata": {},
   "source": [
    "<img src=\"/images/3_3diagram.png\" alt=\"Diagram showing mathematical operations\" style=\"max-width:300px; margin:10px;\">\n"
   ]
  }
 ],
 "metadata": {
  "kernelspec": {
   "display_name": "venv",
   "language": "python",
   "name": "python3"
  },
  "language_info": {
   "codemirror_mode": {
    "name": "ipython",
    "version": 3
   },
   "file_extension": ".py",
   "mimetype": "text/x-python",
   "name": "python",
   "nbconvert_exporter": "python",
   "pygments_lexer": "ipython3",
   "version": "3.13.7"
  }
 },
 "nbformat": 4,
 "nbformat_minor": 5
}
