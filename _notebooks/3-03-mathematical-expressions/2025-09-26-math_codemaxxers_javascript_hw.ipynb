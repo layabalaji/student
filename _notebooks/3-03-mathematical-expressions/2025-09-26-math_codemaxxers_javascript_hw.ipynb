{
 "cells": [
  {
   "cell_type": "raw",
   "id": "6290bcd2",
   "metadata": {
    "vscode": {
     "languageId": "raw"
    }
   },
   "source": [
    "---\n",
    "title: \"Mathematical Operations in Javascript and Python - Hacks\"\n",
    "description: \"Apply your skills of math, logic, and coding.\"\n",
    "layout: post\n",
    "permalink: /javascript/mathematical-expressions/codemaxxers-hw\n",
    "---"
   ]
  },
  {
   "cell_type": "markdown",
   "id": "d98b569e",
   "metadata": {},
   "source": [
    "# Basic Algebraic Math hacks\n",
    "\n",
    "## Q1 (Exponents):\n",
    "### A cube has a side length of 6 units. What is its volume?"
   ]
  },
  {
   "cell_type": "code",
   "execution_count": 5,
   "id": "235ceb13",
   "metadata": {
    "vscode": {
     "languageId": "javascript"
    }
   },
   "outputs": [
    {
     "name": "stdout",
     "output_type": "stream",
     "text": [
      "216\n"
     ]
    }
   ],
   "source": [
    "grade1 = 6\n",
    "grade2 = grade1\n",
    "grade3 = grade2\n",
    "volumeGrade = grade1 * grade2 * grade3\n",
    "print(volumeGrade)"
   ]
  },
  {
   "cell_type": "markdown",
   "id": "3fb1dd4d",
   "metadata": {},
   "source": [
    "## Q2 (PEMDAS):\n",
    "### Evaluate the expression: \n",
    "\n",
    "(7+14)*5/12 + 2"
   ]
  },
  {
   "cell_type": "code",
   "execution_count": 2,
   "id": "49d712a3",
   "metadata": {
    "vscode": {
     "languageId": "javascript"
    }
   },
   "outputs": [
    {
     "name": "stdout",
     "output_type": "stream",
     "text": [
      "10.75\n"
     ]
    }
   ],
   "source": [
    "grade1 = 7\n",
    "grade2 = 14\n",
    "grade3 = 5\n",
    "grade4 = 12\n",
    "grade5 = 2\n",
    "answerGrade = (grade1 + grade2)*grade3/grade4 + grade5\n",
    "print(answerGrade)"
   ]
  },
  {
   "cell_type": "markdown",
   "id": "fcaa4762",
   "metadata": {},
   "source": [
    "## Q3 (Algorithm): \n",
    "\n",
    "Write JavaScript  code where you define variables and run commands that find the values of operations you apply onto them"
   ]
  },
  {
   "cell_type": "code",
   "execution_count": 3,
   "id": "0a2081a9",
   "metadata": {
    "vscode": {
     "languageId": "javascript"
    }
   },
   "outputs": [
    {
     "name": "stdout",
     "output_type": "stream",
     "text": [
      "109\n"
     ]
    }
   ],
   "source": [
    "grade1 = 32\n",
    "grade2 = 4\n",
    "grade3 = 6\n",
    "grade4 = 17\n",
    "grade5 = 21\n",
    "answerGrade = (grade1 - grade2) + (grade3 * grade4) - grade5\n",
    "print(answerGrade)"
   ]
  },
  {
   "cell_type": "markdown",
   "id": "7927eeac",
   "metadata": {},
   "source": [
    "<img src=\"/images/3_3diagram.png\" alt=\"Diagram showing mathematical operations\" style=\"max-width:300px; margin:10px;\">\n"
   ]
  }
 ],
 "metadata": {
  "kernelspec": {
   "display_name": "venv",
   "language": "python",
   "name": "python3"
  },
  "language_info": {
   "codemirror_mode": {
    "name": "ipython",
    "version": 3
   },
   "file_extension": ".py",
   "mimetype": "text/x-python",
   "name": "python",
   "nbconvert_exporter": "python",
   "pygments_lexer": "ipython3",
   "version": "3.13.7"
  }
 },
 "nbformat": 4,
 "nbformat_minor": 5
}
