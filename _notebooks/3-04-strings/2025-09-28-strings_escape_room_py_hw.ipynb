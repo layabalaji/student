{
 "cells": [
  {
   "cell_type": "raw",
   "id": "8f638561",
   "metadata": {
    "vscode": {
     "languageId": "raw"
    }
   },
   "source": [
    "---\n",
    "layout: post\n",
    "title: Escape Room - Strings Homework\n",
    "description: Quick practice with strings in Python.\n",
    "permalink: /python/strings/escape_room-hw \n",
    "Author: Cyrus S, Rishabh J.\n",
    "---"
   ]
  },
  {
   "cell_type": "markdown",
   "id": "0747a274",
   "metadata": {},
   "source": [
    "# AP CSP 3.4 — Python Strings: Free-Response Quiz\n",
    "\n",
    "This quiz focuses only on Python string operations (no JavaScript). Type your answers and click Check Answers.\n",
    "- Case-insensitive where appropriate\n",
    "- Quotes around answers are optional\n",
    "- True/False accepts yes/no, t/f, 1/0"
   ]
  },
  {
   "cell_type": "code",
   "execution_count": 1,
   "id": "91537994",
   "metadata": {},
   "outputs": [
    {
     "name": "stdout",
     "output_type": "stream",
     "text": [
      "Collecting ipywidgets\n",
      "  Downloading ipywidgets-8.1.7-py3-none-any.whl.metadata (2.4 kB)\n",
      "Requirement already satisfied: comm>=0.1.3 in /Users/layabalaji/layabalajix/student/venv/lib/python3.13/site-packages (from ipywidgets) (0.2.3)\n",
      "Requirement already satisfied: ipython>=6.1.0 in /Users/layabalaji/layabalajix/student/venv/lib/python3.13/site-packages (from ipywidgets) (9.5.0)\n",
      "Requirement already satisfied: traitlets>=4.3.1 in /Users/layabalaji/layabalajix/student/venv/lib/python3.13/site-packages (from ipywidgets) (5.14.3)\n",
      "Collecting widgetsnbextension~=4.0.14 (from ipywidgets)\n",
      "  Downloading widgetsnbextension-4.0.14-py3-none-any.whl.metadata (1.6 kB)\n",
      "Collecting jupyterlab_widgets~=3.0.15 (from ipywidgets)\n",
      "  Downloading jupyterlab_widgets-3.0.15-py3-none-any.whl.metadata (20 kB)\n",
      "Requirement already satisfied: decorator in /Users/layabalaji/layabalajix/student/venv/lib/python3.13/site-packages (from ipython>=6.1.0->ipywidgets) (5.2.1)\n",
      "Requirement already satisfied: ipython-pygments-lexers in /Users/layabalaji/layabalajix/student/venv/lib/python3.13/site-packages (from ipython>=6.1.0->ipywidgets) (1.1.1)\n",
      "Requirement already satisfied: jedi>=0.16 in /Users/layabalaji/layabalajix/student/venv/lib/python3.13/site-packages (from ipython>=6.1.0->ipywidgets) (0.19.2)\n",
      "Requirement already satisfied: matplotlib-inline in /Users/layabalaji/layabalajix/student/venv/lib/python3.13/site-packages (from ipython>=6.1.0->ipywidgets) (0.1.7)\n",
      "Requirement already satisfied: pexpect>4.3 in /Users/layabalaji/layabalajix/student/venv/lib/python3.13/site-packages (from ipython>=6.1.0->ipywidgets) (4.9.0)\n",
      "Requirement already satisfied: prompt_toolkit<3.1.0,>=3.0.41 in /Users/layabalaji/layabalajix/student/venv/lib/python3.13/site-packages (from ipython>=6.1.0->ipywidgets) (3.0.52)\n",
      "Requirement already satisfied: pygments>=2.4.0 in /Users/layabalaji/layabalajix/student/venv/lib/python3.13/site-packages (from ipython>=6.1.0->ipywidgets) (2.19.2)\n",
      "Requirement already satisfied: stack_data in /Users/layabalaji/layabalajix/student/venv/lib/python3.13/site-packages (from ipython>=6.1.0->ipywidgets) (0.6.3)\n",
      "Requirement already satisfied: wcwidth in /Users/layabalaji/layabalajix/student/venv/lib/python3.13/site-packages (from prompt_toolkit<3.1.0,>=3.0.41->ipython>=6.1.0->ipywidgets) (0.2.13)\n",
      "Requirement already satisfied: parso<0.9.0,>=0.8.4 in /Users/layabalaji/layabalajix/student/venv/lib/python3.13/site-packages (from jedi>=0.16->ipython>=6.1.0->ipywidgets) (0.8.5)\n",
      "Requirement already satisfied: ptyprocess>=0.5 in /Users/layabalaji/layabalajix/student/venv/lib/python3.13/site-packages (from pexpect>4.3->ipython>=6.1.0->ipywidgets) (0.7.0)\n",
      "Requirement already satisfied: executing>=1.2.0 in /Users/layabalaji/layabalajix/student/venv/lib/python3.13/site-packages (from stack_data->ipython>=6.1.0->ipywidgets) (2.2.1)\n",
      "Requirement already satisfied: asttokens>=2.1.0 in /Users/layabalaji/layabalajix/student/venv/lib/python3.13/site-packages (from stack_data->ipython>=6.1.0->ipywidgets) (3.0.0)\n",
      "Requirement already satisfied: pure-eval in /Users/layabalaji/layabalajix/student/venv/lib/python3.13/site-packages (from stack_data->ipython>=6.1.0->ipywidgets) (0.2.3)\n",
      "Downloading ipywidgets-8.1.7-py3-none-any.whl (139 kB)\n",
      "Downloading jupyterlab_widgets-3.0.15-py3-none-any.whl (216 kB)\n",
      "Downloading widgetsnbextension-4.0.14-py3-none-any.whl (2.2 MB)\n",
      "\u001b[2K   \u001b[90m━━━━━━━━━━━━━━━━━━━━━━━━━━━━━━━━━━━━━━━━\u001b[0m \u001b[32m2.2/2.2 MB\u001b[0m \u001b[31m21.8 MB/s\u001b[0m  \u001b[33m0:00:00\u001b[0m\n",
      "\u001b[?25hInstalling collected packages: widgetsnbextension, jupyterlab_widgets, ipywidgets\n",
      "\u001b[2K   \u001b[90m━━━━━━━━━━━━━━━━━━━━━━━━━━━━━━━━━━━━━━━━\u001b[0m \u001b[32m3/3\u001b[0m [ipywidgets]3\u001b[0m [ipywidgets]\n",
      "\u001b[1A\u001b[2KSuccessfully installed ipywidgets-8.1.7 jupyterlab_widgets-3.0.15 widgetsnbextension-4.0.14\n",
      "Note: you may need to restart the kernel to use updated packages.\n",
      "🐍 Python Strings — Free-Response Quiz\n",
      "Answer the questions below and click Check Answers.\n",
      "\n"
     ]
    },
    {
     "data": {
      "application/vnd.jupyter.widget-view+json": {
       "model_id": "23fb577827744e08b6903e53e559de11",
       "version_major": 2,
       "version_minor": 0
      },
      "text/plain": [
       "HTML(value=\"<b>1. What does 'hello'[1:4] return?</b>\")"
      ]
     },
     "metadata": {},
     "output_type": "display_data"
    },
    {
     "data": {
      "application/vnd.jupyter.widget-view+json": {
       "model_id": "5f6d8e379b3941a7bfd70604518a8fbd",
       "version_major": 2,
       "version_minor": 0
      },
      "text/plain": [
       "Text(value='', placeholder='e.g., ell')"
      ]
     },
     "metadata": {},
     "output_type": "display_data"
    },
    {
     "data": {
      "application/vnd.jupyter.widget-view+json": {
       "model_id": "a295fc190c61455481fe822bdfef4e78",
       "version_major": 2,
       "version_minor": 0
      },
      "text/plain": [
       "HTML(value=\"<b>2. What is len('Escape Room')?</b>\")"
      ]
     },
     "metadata": {},
     "output_type": "display_data"
    },
    {
     "data": {
      "application/vnd.jupyter.widget-view+json": {
       "model_id": "5fa6f164b732448f8f302e6a4df162e6",
       "version_major": 2,
       "version_minor": 0
      },
      "text/plain": [
       "Text(value='', placeholder='Enter a number')"
      ]
     },
     "metadata": {},
     "output_type": "display_data"
    },
    {
     "data": {
      "application/vnd.jupyter.widget-view+json": {
       "model_id": "be10cd3a25c64a5387e6e885f4825c39",
       "version_major": 2,
       "version_minor": 0
      },
      "text/plain": [
       "HTML(value=\"<b>3. What does 'Python'.lower() return?</b>\")"
      ]
     },
     "metadata": {},
     "output_type": "display_data"
    },
    {
     "data": {
      "application/vnd.jupyter.widget-view+json": {
       "model_id": "4880f426bd08464e8f30287120a7590d",
       "version_major": 2,
       "version_minor": 0
      },
      "text/plain": [
       "Text(value='', placeholder='e.g., python')"
      ]
     },
     "metadata": {},
     "output_type": "display_data"
    },
    {
     "data": {
      "application/vnd.jupyter.widget-view+json": {
       "model_id": "c1851c0379c845b2a0adbb76b7df4ba1",
       "version_major": 2,
       "version_minor": 0
      },
      "text/plain": [
       "HTML(value=\"<b>4. If s = '   CS Rocks!  ', what does s.strip() return?</b>\")"
      ]
     },
     "metadata": {},
     "output_type": "display_data"
    },
    {
     "data": {
      "application/vnd.jupyter.widget-view+json": {
       "model_id": "b7f2d809f7964689a78be435d985b7c3",
       "version_major": 2,
       "version_minor": 0
      },
      "text/plain": [
       "Text(value='', placeholder='e.g., CS Rocks!')"
      ]
     },
     "metadata": {},
     "output_type": "display_data"
    },
    {
     "data": {
      "application/vnd.jupyter.widget-view+json": {
       "model_id": "66eeb5cb252348bd869b1f117747f056",
       "version_major": 2,
       "version_minor": 0
      },
      "text/plain": [
       "HTML(value=\"<b>5. Does 'algorithm' start with 'algo'?</b> (True/False)\")"
      ]
     },
     "metadata": {},
     "output_type": "display_data"
    },
    {
     "data": {
      "application/vnd.jupyter.widget-view+json": {
       "model_id": "c6ff9e246b0a487085bfa1a4d9e10641",
       "version_major": 2,
       "version_minor": 0
      },
      "text/plain": [
       "Text(value='', placeholder='True/False')"
      ]
     },
     "metadata": {},
     "output_type": "display_data"
    },
    {
     "data": {
      "application/vnd.jupyter.widget-view+json": {
       "model_id": "157f596747fc44efaefd7b0a9c0b9e43",
       "version_major": 2,
       "version_minor": 0
      },
      "text/plain": [
       "HTML(value=\"<b>6. What is 'banana'.count('an')?</b>\")"
      ]
     },
     "metadata": {},
     "output_type": "display_data"
    },
    {
     "data": {
      "application/vnd.jupyter.widget-view+json": {
       "model_id": "13da8bd548da41d9bc89a839d371671f",
       "version_major": 2,
       "version_minor": 0
      },
      "text/plain": [
       "Text(value='', placeholder='Enter a number')"
      ]
     },
     "metadata": {},
     "output_type": "display_data"
    },
    {
     "data": {
      "application/vnd.jupyter.widget-view+json": {
       "model_id": "e4da2c637aa748d797c7d320d545e9c9",
       "version_major": 2,
       "version_minor": 0
      },
      "text/plain": [
       "HTML(value=\"<b>7. What index does 'debuggers'.find('bug') return?</b>\")"
      ]
     },
     "metadata": {},
     "output_type": "display_data"
    },
    {
     "data": {
      "application/vnd.jupyter.widget-view+json": {
       "model_id": "9f35b6d505a04c3ba3f5a3a9e698980e",
       "version_major": 2,
       "version_minor": 0
      },
      "text/plain": [
       "Text(value='', placeholder='Enter a number')"
      ]
     },
     "metadata": {},
     "output_type": "display_data"
    },
    {
     "data": {
      "application/vnd.jupyter.widget-view+json": {
       "model_id": "541bc0ad68424f10a728e7dbe928b556",
       "version_major": 2,
       "version_minor": 0
      },
      "text/plain": [
       "HTML(value=\"<b>8. What is the length of the password 'Escape123!'?</b>\")"
      ]
     },
     "metadata": {},
     "output_type": "display_data"
    },
    {
     "data": {
      "application/vnd.jupyter.widget-view+json": {
       "model_id": "b8389c167b37488aa799afe9eed60723",
       "version_major": 2,
       "version_minor": 0
      },
      "text/plain": [
       "Text(value='', placeholder='Enter a number')"
      ]
     },
     "metadata": {},
     "output_type": "display_data"
    },
    {
     "data": {
      "application/vnd.jupyter.widget-view+json": {
       "model_id": "58ae877df5904cc689326f7374e6b332",
       "version_major": 2,
       "version_minor": 0
      },
      "text/plain": [
       "Button(button_style='success', description='Check Answers', icon='check', style=ButtonStyle())"
      ]
     },
     "metadata": {},
     "output_type": "display_data"
    },
    {
     "data": {
      "application/vnd.jupyter.widget-view+json": {
       "model_id": "288e7060ce5e4266a5c28417e642eb58",
       "version_major": 2,
       "version_minor": 0
      },
      "text/plain": [
       "Output()"
      ]
     },
     "metadata": {},
     "output_type": "display_data"
    }
   ],
   "source": [
    "%pip install ipywidgets\n",
    "\n",
    "# Define password for Q8\n",
    "password = \"Escape123!\"\n",
    "password_length = len(password)\n",
    "\n",
    "# Python-only Strings Quiz\n",
    "from IPython.display import display, HTML, Javascript\n",
    "import ipywidgets as widgets\n",
    "\n",
    "print(\"🐍 Python Strings — Free-Response Quiz\")\n",
    "print(\"Answer the questions below and click Check Answers.\\n\")\n",
    "\n",
    "# Q1: Slice\n",
    "q1_label = widgets.HTML(\"<b>1. What does 'hello'[1:4] return?</b>\")\n",
    "q1 = widgets.Text(placeholder='e.g., ell')\n",
    "\n",
    "# Q2: Length\n",
    "q2_label = widgets.HTML(\"<b>2. What is len('Escape Room')?</b>\")\n",
    "q2 = widgets.Text(placeholder='Enter a number')\n",
    "\n",
    "# Q3: Lowercase\n",
    "q3_label = widgets.HTML(\"<b>3. What does 'Python'.lower() return?</b>\")\n",
    "q3 = widgets.Text(placeholder='e.g., python')\n",
    "\n",
    "# Q4: Strip\n",
    "q4_label = widgets.HTML(\"<b>4. If s = '   CS Rocks!  ', what does s.strip() return?</b>\")\n",
    "q4 = widgets.Text(placeholder='e.g., CS Rocks!')\n",
    "\n",
    "# Q5: startswith (True/False)\n",
    "q5_label = widgets.HTML(\"<b>5. Does 'algorithm' start with 'algo'?</b> (True/False)\")\n",
    "q5 = widgets.Text(placeholder='True/False')\n",
    "\n",
    "# Q6: count\n",
    "q6_label = widgets.HTML(\"<b>6. What is 'banana'.count('an')?</b>\")\n",
    "q6 = widgets.Text(placeholder='Enter a number')\n",
    "\n",
    "# Q7: find\n",
    "q7_label = widgets.HTML(\"<b>7. What index does 'debuggers'.find('bug') return?</b>\")\n",
    "q7 = widgets.Text(placeholder='Enter a number')\n",
    "\n",
    "# Q8: password length (uses existing variable)\n",
    "q8_label = widgets.HTML(f\"<b>8. What is the length of the password '{password}'?</b>\")\n",
    "q8 = widgets.Text(placeholder='Enter a number')\n",
    "\n",
    "submit_btn = widgets.Button(description='Check Answers', button_style='success', icon='check')\n",
    "output = widgets.Output()\n",
    "\n",
    "def parse_bool_like(s: str):\n",
    "    v = s.strip().lower()\n",
    "    if v in {'true','t','yes','y','1'}: return True\n",
    "    if v in {'false','f','no','n','0'}: return False\n",
    "    return None\n",
    "\n",
    "def strip_quotes(s: str):\n",
    "    return s.strip().strip(\"'\").strip('\"')\n",
    "\n",
    "def clean_str(s: str):\n",
    "    return s.strip().strip(\"'\").strip('\"')\n",
    "\n",
    "def check_answers(btn):\n",
    "    with output:\n",
    "        output.clear_output()\n",
    "        score, total = 0, 8\n",
    "        print('📊 QUIZ RESULTS')\n",
    "        print('='*40)\n",
    "\n",
    "        # Q1\n",
    "        a1 = clean_str(q1.value).lower()\n",
    "        if a1 == 'ell':\n",
    "            score += 1; print('✅ Q1: CORRECT')\n",
    "        else:\n",
    "            print('❌ Q1: INCORRECT — Correct: ell')\n",
    "\n",
    "        # Q2 (len of 'Escape Room' is 11)\n",
    "        a2 = clean_str(q2.value)\n",
    "        if a2.isdigit() and int(a2) == 11:\n",
    "            score += 1; print('✅ Q2: CORRECT')\n",
    "        else:\n",
    "            print('❌ Q2: INCORRECT — Correct: 11 (spaces count)')\n",
    "\n",
    "        # Q3\n",
    "        a3 = clean_str(q3.value).lower()\n",
    "        if a3 == 'python':\n",
    "            score += 1; print('✅ Q3: CORRECT')\n",
    "        else:\n",
    "            print(\"❌ Q3: INCORRECT — Correct: python\")\n",
    "\n",
    "        # Q4\n",
    "        a4 = strip_quotes(q4.value)\n",
    "        if a4 == 'CS Rocks!':\n",
    "            score += 1; print('✅ Q4: CORRECT')\n",
    "        else:\n",
    "            print(\"❌ Q4: INCORRECT — Correct: CS Rocks!\")\n",
    "\n",
    "        # Q5\n",
    "        a5 = parse_bool_like(q5.value)\n",
    "        if a5 is None:\n",
    "            print('⚠️ Q5: Could not parse. Please answer True/False.')\n",
    "        elif a5 is True:\n",
    "            score += 1; print('✅ Q5: CORRECT')\n",
    "        else:\n",
    "            print(\"❌ Q5: INCORRECT — Correct: True\")\n",
    "\n",
    "        # Q6\n",
    "        a6 = clean_str(q6.value)\n",
    "        if a6.isdigit() and int(a6) == 2:\n",
    "            score += 1; print('✅ Q6: CORRECT')\n",
    "        else:\n",
    "            print(\"❌ Q6: INCORRECT — Correct: 2\")\n",
    "\n",
    "        # Q7 ('debuggers'.find('bug') is 2)\n",
    "        a7 = clean_str(q7.value)\n",
    "        if a7.isdigit() and int(a7) == 2:\n",
    "            score += 1; print('✅ Q7: CORRECT')\n",
    "        else:\n",
    "            print(\"❌ Q7: INCORRECT — Correct: 2\")\n",
    "\n",
    "        # Q8 (password length)\n",
    "        a8 = clean_str(q8.value)\n",
    "        if a8.isdigit() and int(a8) == password_length:\n",
    "            score += 1; print('✅ Q8: CORRECT')\n",
    "        else:\n",
    "            print(f\"❌ Q8: INCORRECT — Correct: {password_length}\")\n",
    "\n",
    "        print('='*40)\n",
    "        print(f'🎯 Your Score: {score}/{total}')\n",
    "        print(f'📈 Percentage: {score/total*100:.1f}%')\n",
    "        try:\n",
    "            display(Javascript(\"localStorage.setItem('csp34_hw_py_quiz_tried','true');\"))\n",
    "        except Exception:\n",
    "            pass\n",
    "\n",
    "submit_btn.on_click(check_answers)\n",
    "\n",
    "display(q1_label, q1, q2_label, q2, q3_label, q3, q4_label, q4, q5_label, q5, q6_label, q6, q7_label, q7, q8_label, q8, submit_btn, output)"
   ]
  },
  {
   "cell_type": "markdown",
   "id": "68afbd04",
   "metadata": {},
   "source": [
    "## Part 2: Python Password Strength Practice\n",
    "\n",
    "Here you will make a password strength analyzer in Python. Complete the program so it checks:\n",
    "\n",
    "- Password length ≥ 8 characters\n",
    "- Contains uppercase letters\n",
    "- Contains lowercase letters  \n",
    "- Contains numbers\n",
    "- Contains special characters (!@#$%^&*)\n",
    "\n",
    "Then calculate a strength score and display appropriate feedback.\n",
    "\n",
    "Try to fix the code to set your own password level."
   ]
  },
  {
   "cell_type": "code",
   "execution_count": null,
   "id": "24205713",
   "metadata": {},
   "outputs": [
    {
     "name": "stdout",
     "output_type": "stream",
     "text": [
      "=== Password Strength Analyzer ===\n"
     ]
    },
    {
     "ename": "NameError",
     "evalue": "name '____' is not defined",
     "output_type": "error",
     "traceback": [
      "\u001b[31m---------------------------------------------------------------------------\u001b[39m",
      "\u001b[31mNameError\u001b[39m                                 Traceback (most recent call last)",
      "\u001b[36mCell\u001b[39m\u001b[36m \u001b[39m\u001b[32mIn[3]\u001b[39m\u001b[32m, line 7\u001b[39m\n\u001b[32m      5\u001b[39m \u001b[38;5;66;03m# Complete the validation checks below\u001b[39;00m\n\u001b[32m      6\u001b[39m password_length = \u001b[38;5;28mlen\u001b[39m(password)\n\u001b[32m----> \u001b[39m\u001b[32m7\u001b[39m is_long_enough = password_length >= \u001b[43m____\u001b[49m\n\u001b[32m      8\u001b[39m has_uppercase = \u001b[38;5;28many\u001b[39m(char.isupper() \u001b[38;5;28;01mfor\u001b[39;00m char \u001b[38;5;129;01min\u001b[39;00m password)\n\u001b[32m      9\u001b[39m has_lowercase = \u001b[38;5;28many\u001b[39m(char.islower() \u001b[38;5;28;01mfor\u001b[39;00m char \u001b[38;5;129;01min\u001b[39;00m password)  \n",
      "\u001b[31mNameError\u001b[39m: name '____' is not defined"
     ]
    }
   ],
   "source": [
    "print(\"=== Password Strength Analyzer ===\")\n",
    "\n",
    "password = input(\"What is your password? \")\n",
    "\n",
    "# Complete the validation checks below\n",
    "password_length = len(password)\n",
    "is_long_enough = password_length >= 8\n",
    "has_uppercase = any(char.isupper() for char in password)\n",
    "has_lowercase = any(char.islower() for char in password)  \n",
    "has_numbers = any(char.isdigit() for char in password)\n",
    "special_chars = \"!@#$%^&*\"\n",
    "has_special = any(char in special_chars for char in password)\n",
    "\n",
    "# Calculate strength score (1 point for each requirement met)\n",
    "strength_score = sum([is_long_enough, has_uppercase, has_lowercase, has_numbers, has_special])\n",
    "if strength_score <= 2:\n",
    "    strength_rating = \"Weak\"\n",
    "elif strength_score <= 3:\n",
    "    strength_rating = \"Medium\"\n",
    "else:\n",
    "    strength_rating = \"Strong\"\n",
    "\n",
    "# Generate suggestions for improvement\n",
    "suggestions = []\n",
    "if not is_long_enough:\n",
    "    suggestions.append(\"Make password longer (at least 8 characters)\")\n",
    "if not has_uppercase:\n",
    "    suggestions.append(\"Add uppercase letters\")\n",
    "if not has_lowercase:\n",
    "    suggestions.append(\"Add lowercase letters\")\n",
    "if not has_numbers:\n",
    "    suggestions.append(\"Add numbers\")\n",
    "if not has_special:\n",
    "    suggestions.append(\"Add special characters: !@#$%^&*\")\n",
    "\n",
    "# Display results\n",
    "print(f\"Password: {password}\")\n",
    "print(f\"Length: {password_length} characters\")\n",
    "print(f\"Strength Score: {strength_score}/5 - {strength_rating}\")\n",
    "print(\"Requirements met:\")\n",
    "print(f\"  Length >= 8: {is_long_enough}\")\n",
    "print(f\"  Has uppercase: {has_uppercase}\")\n",
    "print(f\"  Has lowercase: {has_lowercase}\")\n",
    "print(f\"  Has numbers: {has_numbers}\")\n",
    "print(f\"  Has special chars: {has_special}\")\n",
    "\n",
    "if suggestions:\n",
    "    print(\"Suggestions for improvement:\")\n",
    "    for suggestion in suggestions:\n",
    "        print(f\"  • {suggestion}\")\n",
    "else:\n",
    "    print(\"🎉 Excellent! Your password meets all security requirements!\")"
   ]
  }
 ],
 "metadata": {
  "kernelspec": {
   "display_name": "venv",
   "language": "python",
   "name": "python3"
  },
  "language_info": {
   "codemirror_mode": {
    "name": "ipython",
    "version": 3
   },
   "file_extension": ".py",
   "mimetype": "text/x-python",
   "name": "python",
   "nbconvert_exporter": "python",
   "pygments_lexer": "ipython3",
   "version": "3.13.7"
  }
 },
 "nbformat": 4,
 "nbformat_minor": 5
}
