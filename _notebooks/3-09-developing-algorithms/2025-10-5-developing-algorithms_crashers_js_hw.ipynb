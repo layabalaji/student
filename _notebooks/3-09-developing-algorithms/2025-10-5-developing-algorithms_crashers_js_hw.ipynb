{
 "cells": [
  {
   "cell_type": "raw",
   "id": "fa78866e",
   "metadata": {
    "vscode": {
     "languageId": "raw"
    }
   },
   "source": [
    "---\n",
    "layout: post\n",
    "title: Crashers - 3.9 Developing Algorithms JS Hacks\n",
    "categories: [Javascript]\n",
    "tags: [python, javascript, variables, assignment, beginner]\n",
    "description: Learn how to develop algorithms through the Peppa Pig Maze game\n",
    "permalink: /javascript/developing-algorithms/crashers-hw\n",
    "---"
   ]
  },
  {
   "cell_type": "markdown",
   "id": "26e95683",
   "metadata": {},
   "source": [
    "# 🐷 Peppa's Algorithm Adventures - JavaScript Hacks\n",
    "\n",
    "Welcome to Peppa's JavaScript algorithm challenges! Complete these three hacks to master algorithm development with interactive JavaScript examples."
   ]
  },
  {
   "cell_type": "markdown",
   "id": "d7d2b7d6",
   "metadata": {},
   "source": [
    "## Hack 1: Daddy Pig's Car Speed Checker 🚗\n",
    "\n",
    "Help Daddy Pig check if his car is going the right speed using Boolean expressions!\n",
    "\n",
    "**Your task:** Complete the missing Boolean conditions to validate car speeds."
   ]
  },
  {
   "cell_type": "code",
   "execution_count": 4,
   "id": "3b807554",
   "metadata": {
    "vscode": {
     "languageId": "javascript"
    }
   },
   "outputs": [
    {
     "data": {
      "application/javascript": "function checkSpeedLimit(currentSpeed, speedLimit) {\n    // ✅ Complete the Boolean condition\n    const isSafe = currentSpeed <= speedLimit;  // true if speed is within limit\n\n    if (isSafe) {\n        console.log(`✅ Speed ${currentSpeed} mph is safe! (Limit: ${speedLimit} mph)`);\n    } else {\n        console.log(`❌ Speed ${currentSpeed} mph is too fast! (Limit: ${speedLimit} mph)`);\n    }\n\n    return isSafe;\n}\n\nfunction compareCarSpeeds(speed1, speed2) {\n    // ✅ Complete the Boolean expression\n    const fasterCar = speed1 > speed2 ? \"Car 1\" : \"Car 2\";\n\n    console.log(`🏎️ ${fasterCar} is faster! (${speed1} vs ${speed2} mph)`);\n    return fasterCar;\n}\n\nfunction daddyPigDriving() {\n    console.log(\"🚗 Daddy Pig's Driving Algorithm\");\n\n    const currentSpeed = 35;\n    const schoolZoneLimit = 25;\n\n    // ✅ Complete the Boolean condition\n    const shouldSlowDown = currentSpeed > schoolZoneLimit;\n\n    if (shouldSlowDown) {\n        console.log(\"🐷 Daddy Pig says: 'Oops! I should slow down!'\");\n    } else {\n        console.log(\"🐷 Daddy Pig says: 'Perfect speed for the school zone!'\");\n    }\n}\n\n// Test the algorithms\nconsole.log(\"=== Testing Speed Algorithms ===\");\ncheckSpeedLimit(30, 35);  // safe\ncheckSpeedLimit(40, 35);  // too fast\n\nconsole.log(\"\\n=== Comparing Car Speeds ===\");\ncompareCarSpeeds(45, 38);\n\nconsole.log(\"\\n=== Daddy Pig's Drive ===\");\ndaddyPigDriving();\n",
      "text/plain": [
       "<IPython.core.display.Javascript object>"
      ]
     },
     "metadata": {},
     "output_type": "display_data"
    }
   ],
   "source": [
    "%%js\n",
    "function checkSpeedLimit(currentSpeed, speedLimit) {\n",
    "    // ✅ Complete the Boolean condition\n",
    "    const isSafe = currentSpeed <= speedLimit;  // true if speed is within limit\n",
    "    \n",
    "    if (isSafe) {\n",
    "        console.log(`✅ Speed ${currentSpeed} mph is safe! (Limit: ${speedLimit} mph)`);\n",
    "    } else {\n",
    "        console.log(`❌ Speed ${currentSpeed} mph is too fast! (Limit: ${speedLimit} mph)`);\n",
    "    }\n",
    "    \n",
    "    return isSafe;\n",
    "}\n",
    "\n",
    "function compareCarSpeeds(speed1, speed2) {\n",
    "    // ✅ Complete the Boolean expression\n",
    "    const fasterCar = speed1 > speed2 ? \"Car 1\" : \"Car 2\";\n",
    "    \n",
    "    console.log(`🏎️ ${fasterCar} is faster! (${speed1} vs ${speed2} mph)`);\n",
    "    return fasterCar;\n",
    "}\n",
    "\n",
    "function daddyPigDriving() {\n",
    "    console.log(\"🚗 Daddy Pig's Driving Algorithm\");\n",
    "    \n",
    "    const currentSpeed = 35;\n",
    "    const schoolZoneLimit = 25;\n",
    "    \n",
    "    // ✅ Complete the Boolean condition\n",
    "    const shouldSlowDown = currentSpeed > schoolZoneLimit;\n",
    "    \n",
    "    if (shouldSlowDown) {\n",
    "        console.log(\"🐷 Daddy Pig says: 'Oops! I should slow down!'\");\n",
    "    } else {\n",
    "        console.log(\"🐷 Daddy Pig says: 'Perfect speed for the school zone!'\");\n",
    "    }\n",
    "}\n",
    "\n",
    "// Test the algorithms\n",
    "console.log(\"=== Testing Speed Algorithms ===\");\n",
    "checkSpeedLimit(30, 35);  // safe\n",
    "checkSpeedLimit(40, 35);  // too fast\n",
    "\n",
    "console.log(\"\\n=== Comparing Car Speeds ===\");\n",
    "compareCarSpeeds(45, 38);\n",
    "\n",
    "console.log(\"\\n=== Daddy Pig's Drive ===\");\n",
    "daddyPigDriving();\n"
   ]
  },
  {
   "cell_type": "markdown",
   "id": "bdb15e42",
   "metadata": {},
   "source": [
    "## Hack 2: Suzy Sheep's Playground Game 🎮\n",
    "\n",
    "Help Suzy Sheep create a simple playground game using conditional statements!\n",
    "\n",
    "**Your task:** Complete the `if/else` conditions for Suzy's interactive game."
   ]
  },
  {
   "cell_type": "code",
   "execution_count": 2,
   "id": "76447b80",
   "metadata": {
    "vscode": {
     "languageId": "javascript"
    }
   },
   "outputs": [
    {
     "data": {
      "application/javascript": "function playgroundEntryChecker() {\n    console.log(\"🎪 Suzy's Playground Entry Checker\");\n\n    const playerAge = 8;\n    const minimumAge = 5;\n    const maximumAge = 12;\n\n    // Complete the Boolean conditions\n    const oldEnough = playerAge >= minimumAge;      // true if age meets minimum\n    const youngEnough = playerAge <= maximumAge;    // true if age below maximum\n\n    // Complete the logical condition using AND\n    const canEnter = oldEnough && youngEnough;      // both conditions must be true\n\n    if (canEnter) {\n        console.log(`✅ Welcome to the playground! Age ${playerAge} is perfect!`);\n    } else {\n        console.log(`❌ Sorry, age ${playerAge} is not in the range ${minimumAge}-${maximumAge}`);\n    }\n\n    return canEnter;\n}\n\nfunction suzyGameChooser(weather, hasKite) {\n    console.log(\"🐑 Suzy's Game Choice Algorithm\");\n    console.log(`Weather: ${weather}, Has kite: ${hasKite}`);\n\n    let activity;\n\n    // Complete the if/else statements\n    if (weather === \"sunny\") {\n        if (hasKite) {\n            activity = \"Flying kites! 🪁\";\n        } else {\n            activity = \"Playing tag! 🏃‍♀️\"; // sunny activity without kite\n        }\n    } else if (weather === \"rainy\") {\n        activity = \"Indoor crafts! 🎨\"; // rainy day activity\n    } else {\n        activity = \"Reading a book! 📚\"; // default activity for other weather\n    }\n\n    console.log(`🎯 Suzy chooses: ${activity}`);\n    return activity;\n}\n\nfunction interactivePlaygroundGame() {\n    console.log(\"\\n🎮 Interactive Playground Test\");\n\n    // Simulate user choices\n    const choices = [\"sunny\", \"rainy\", \"cloudy\"];\n    const randomWeather = choices[Math.floor(Math.random() * choices.length)];\n    const hasKite = Math.random() > 0.5; // Random true/false\n\n    console.log(`🎲 Random scenario: Weather is ${randomWeather}, kite available: ${hasKite}`);\n\n    const gameChoice = suzyGameChooser(randomWeather, hasKite);\n    const canPlay = playgroundEntryChecker();\n\n    if (canPlay) {\n        console.log(`🎉 Suzy is playing: ${gameChoice}`);\n    } else {\n        console.log(\"😢 Suzy can't play today\");\n    }\n}\n\n// Run the playground algorithms\nplaygroundEntryChecker();\nsuzyGameChooser(\"sunny\", true);\nsuzyGameChooser(\"rainy\", false);\ninteractivePlaygroundGame();\n",
      "text/plain": [
       "<IPython.core.display.Javascript object>"
      ]
     },
     "metadata": {},
     "output_type": "display_data"
    }
   ],
   "source": [
    "%%js\n",
    "function playgroundEntryChecker() {\n",
    "    console.log(\"🎪 Suzy's Playground Entry Checker\");\n",
    "    \n",
    "    const playerAge = 8;\n",
    "    const minimumAge = 5;\n",
    "    const maximumAge = 12;\n",
    "    \n",
    "    // Complete the Boolean conditions\n",
    "    const oldEnough = playerAge >= minimumAge;      // true if age meets minimum\n",
    "    const youngEnough = playerAge <= maximumAge;    // true if age below maximum\n",
    "    \n",
    "    // Complete the logical condition using AND\n",
    "    const canEnter = oldEnough && youngEnough;      // both conditions must be true\n",
    "    \n",
    "    if (canEnter) {\n",
    "        console.log(`✅ Welcome to the playground! Age ${playerAge} is perfect!`);\n",
    "    } else {\n",
    "        console.log(`❌ Sorry, age ${playerAge} is not in the range ${minimumAge}-${maximumAge}`);\n",
    "    }\n",
    "    \n",
    "    return canEnter;\n",
    "}\n",
    "\n",
    "function suzyGameChooser(weather, hasKite) {\n",
    "    console.log(\"🐑 Suzy's Game Choice Algorithm\");\n",
    "    console.log(`Weather: ${weather}, Has kite: ${hasKite}`);\n",
    "    \n",
    "    let activity;\n",
    "    \n",
    "    // Complete the if/else statements\n",
    "    if (weather === \"sunny\") {\n",
    "        if (hasKite) {\n",
    "            activity = \"Flying kites! 🪁\";\n",
    "        } else {\n",
    "            activity = \"Playing tag! 🏃‍♀️\"; // sunny activity without kite\n",
    "        }\n",
    "    } else if (weather === \"rainy\") {\n",
    "        activity = \"Indoor crafts! 🎨\"; // rainy day activity\n",
    "    } else {\n",
    "        activity = \"Reading a book! 📚\"; // default activity for other weather\n",
    "    }\n",
    "    \n",
    "    console.log(`🎯 Suzy chooses: ${activity}`);\n",
    "    return activity;\n",
    "}\n",
    "\n",
    "function interactivePlaygroundGame() {\n",
    "    console.log(\"\\n🎮 Interactive Playground Test\");\n",
    "    \n",
    "    // Simulate user choices\n",
    "    const choices = [\"sunny\", \"rainy\", \"cloudy\"];\n",
    "    const randomWeather = choices[Math.floor(Math.random() * choices.length)];\n",
    "    const hasKite = Math.random() > 0.5; // Random true/false\n",
    "    \n",
    "    console.log(`🎲 Random scenario: Weather is ${randomWeather}, kite available: ${hasKite}`);\n",
    "    \n",
    "    const gameChoice = suzyGameChooser(randomWeather, hasKite);\n",
    "    const canPlay = playgroundEntryChecker();\n",
    "    \n",
    "    if (canPlay) {\n",
    "        console.log(`🎉 Suzy is playing: ${gameChoice}`);\n",
    "    } else {\n",
    "        console.log(\"😢 Suzy can't play today\");\n",
    "    }\n",
    "}\n",
    "\n",
    "// Run the playground algorithms\n",
    "playgroundEntryChecker();\n",
    "suzyGameChooser(\"sunny\", true);\n",
    "suzyGameChooser(\"rainy\", false);\n",
    "interactivePlaygroundGame();\n"
   ]
  },
  {
   "cell_type": "markdown",
   "id": "9ba5b066",
   "metadata": {},
   "source": [
    "## Hack 3: Pedro Pony's Simple Navigation System 🧭\n",
    "\n",
    "Help Pedro Pony navigate around his classroom using boundary checking!\n",
    "\n",
    "**Your task:** Complete the Boolean conditions to control Pedro's movement safely."
   ]
  },
  {
   "cell_type": "code",
   "execution_count": 3,
   "id": "4a385798",
   "metadata": {
    "vscode": {
     "languageId": "javascript"
    }
   },
   "outputs": [
    {
     "data": {
      "application/javascript": "function pedroNavigationSystem() {\n    console.log(\"🧭 Pedro's Classroom Navigation Algorithm\");\n\n    let pedroX = 1;\n    let pedroY = 2;\n\n    const minX = 0, maxX = 4;\n    const minY = 0, maxY = 3;\n\n    console.log(`🐴 Pedro is at desk (${pedroX}, ${pedroY})`);\n    console.log(`📚 Classroom size: ${maxX + 1} x ${maxY + 1} desks`);\n\n    console.log(\"\\n--- Testing Pedro's Movement ---\");\n\n    // Move to the whiteboard (right)\n    const newX = pedroX + 2;\n    const canReachWhiteboard = newX <= maxX;  // true if within boundary\n    console.log(`Move to whiteboard (${newX}, ${pedroY}): ${canReachWhiteboard ? '✅ Can reach' : '❌ Too far'}`);\n\n    // Move to the library corner (up)\n    const newY = pedroY + 2;\n    const canReachLibrary = newY <= maxY;  // true if within boundary\n    console.log(`Move to library (${pedroX}, ${newY}): ${canReachLibrary ? '✅ Can reach' : '❌ Out of bounds'}`);\n\n    // Move to the door (left)\n    const exitX = pedroX - 2;\n    const canReachDoor = exitX >= minX;  // true if within boundary\n    console.log(`Move to door (${exitX}, ${pedroY}): ${canReachDoor ? '✅ Can reach' : '❌ Would hit wall'}`);\n}\n\nfunction interactiveClassroomNav() {\n    console.log(\"\\n🎯 Interactive Classroom Navigation\");\n\n    const startX = 2, startY = 1;\n\n    const destinations = [\n        {name: \"teacher's desk\", x: 4, y: 0},\n        {name: \"reading corner\", x: 0, y: 3},  \n        {name: \"supply closet\", x: 3, y: 2}\n    ];\n\n    const randomDest = destinations[Math.floor(Math.random() * destinations.length)];\n    console.log(`🎲 Pedro wants to go to: ${randomDest.name} at (${randomDest.x}, ${randomDest.y})`);\n\n    // Boundary checking\n    const validX = (0 <= randomDest.x) && (randomDest.x <= 4);\n    const validY = (0 <= randomDest.y) && (randomDest.y <= 3);\n\n    const canNavigate = validX && validY;\n\n    if (canNavigate) {\n        console.log(`✅ Pedro successfully navigated to the ${randomDest.name}!`);\n    } else {\n        console.log(`❌ Can't reach ${randomDest.name} - it's outside the classroom!`);\n    }\n}\n\n// Run Pedro's navigation algorithms\npedroNavigationSystem();\ninteractiveClassroomNav();\n",
      "text/plain": [
       "<IPython.core.display.Javascript object>"
      ]
     },
     "metadata": {},
     "output_type": "display_data"
    }
   ],
   "source": [
    "%%js\n",
    "function pedroNavigationSystem() {\n",
    "    console.log(\"🧭 Pedro's Classroom Navigation Algorithm\");\n",
    "    \n",
    "    let pedroX = 1;\n",
    "    let pedroY = 2;\n",
    "    \n",
    "    const minX = 0, maxX = 4;\n",
    "    const minY = 0, maxY = 3;\n",
    "    \n",
    "    console.log(`🐴 Pedro is at desk (${pedroX}, ${pedroY})`);\n",
    "    console.log(`📚 Classroom size: ${maxX + 1} x ${maxY + 1} desks`);\n",
    "    \n",
    "    console.log(\"\\n--- Testing Pedro's Movement ---\");\n",
    "    \n",
    "    // Move to the whiteboard (right)\n",
    "    const newX = pedroX + 2;\n",
    "    const canReachWhiteboard = newX <= maxX;  // true if within boundary\n",
    "    console.log(`Move to whiteboard (${newX}, ${pedroY}): ${canReachWhiteboard ? '✅ Can reach' : '❌ Too far'}`);\n",
    "    \n",
    "    // Move to the library corner (up)\n",
    "    const newY = pedroY + 2;\n",
    "    const canReachLibrary = newY <= maxY;  // true if within boundary\n",
    "    console.log(`Move to library (${pedroX}, ${newY}): ${canReachLibrary ? '✅ Can reach' : '❌ Out of bounds'}`);\n",
    "    \n",
    "    // Move to the door (left)\n",
    "    const exitX = pedroX - 2;\n",
    "    const canReachDoor = exitX >= minX;  // true if within boundary\n",
    "    console.log(`Move to door (${exitX}, ${pedroY}): ${canReachDoor ? '✅ Can reach' : '❌ Would hit wall'}`);\n",
    "}\n",
    "\n",
    "function interactiveClassroomNav() {\n",
    "    console.log(\"\\n🎯 Interactive Classroom Navigation\");\n",
    "    \n",
    "    const startX = 2, startY = 1;\n",
    "    \n",
    "    const destinations = [\n",
    "        {name: \"teacher's desk\", x: 4, y: 0},\n",
    "        {name: \"reading corner\", x: 0, y: 3},  \n",
    "        {name: \"supply closet\", x: 3, y: 2}\n",
    "    ];\n",
    "    \n",
    "    const randomDest = destinations[Math.floor(Math.random() * destinations.length)];\n",
    "    console.log(`🎲 Pedro wants to go to: ${randomDest.name} at (${randomDest.x}, ${randomDest.y})`);\n",
    "    \n",
    "    // Boundary checking\n",
    "    const validX = (0 <= randomDest.x) && (randomDest.x <= 4);\n",
    "    const validY = (0 <= randomDest.y) && (randomDest.y <= 3);\n",
    "    \n",
    "    const canNavigate = validX && validY;\n",
    "    \n",
    "    if (canNavigate) {\n",
    "        console.log(`✅ Pedro successfully navigated to the ${randomDest.name}!`);\n",
    "    } else {\n",
    "        console.log(`❌ Can't reach ${randomDest.name} - it's outside the classroom!`);\n",
    "    }\n",
    "}\n",
    "\n",
    "// Run Pedro's navigation algorithms\n",
    "pedroNavigationSystem();\n",
    "interactiveClassroomNav();\n"
   ]
  },
  {
   "cell_type": "markdown",
   "id": "076175d2",
   "metadata": {},
   "source": [
    "## 📝 What You Should Complete\n",
    "\n",
    "**After finishing the lesson, you should be able to:**\n",
    "\n",
    "1. **Hack 1**: Fill in the Boolean comparison operators (`<=`, `>=`, `<`, `>`) to make Daddy Pig's speed checker work\n",
    "2. **Hack 2**: Complete the `if/else` statements and fill in missing activity choices for Suzy's playground game\n",
    "3. **Hack 3**: Fill in the boundary conditions for Pedro's classroom navigation system\n",
    "\n",
    "\n"
   ]
  }
 ],
 "metadata": {
  "kernelspec": {
   "display_name": "venv",
   "language": "python",
   "name": "python3"
  },
  "language_info": {
   "codemirror_mode": {
    "name": "ipython",
    "version": 3
   },
   "file_extension": ".py",
   "mimetype": "text/x-python",
   "name": "python",
   "nbconvert_exporter": "python",
   "pygments_lexer": "ipython3",
   "version": "3.13.7"
  }
 },
 "nbformat": 4,
 "nbformat_minor": 5
}
