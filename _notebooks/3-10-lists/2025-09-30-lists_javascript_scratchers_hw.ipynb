{
 "cells": [
  {
   "cell_type": "raw",
   "id": "cae8bc40",
   "metadata": {
    "vscode": {
     "languageId": "raw"
    }
   },
   "source": [
    "---\n",
    "layout: post\n",
    "title: Lists Hacks Javascript\n",
    "description: This is a CSP Hacks notebook based on the lists lesson\n",
    "comments: true\n",
    "permalink: /csp/big-idea-3/<lists>/<4>/javascript_hw\n",
    "---"
   ]
  },
  {
   "cell_type": "markdown",
   "id": "44bdd529",
   "metadata": {},
   "source": [
    "# Javascript Lists Homework"
   ]
  },
  {
   "cell_type": "markdown",
   "id": "6a975112",
   "metadata": {},
   "source": [
    "- After going through the lists lesson work on these hacks in your own repository"
   ]
  },
  {
   "cell_type": "markdown",
   "id": "4b1ccc5c",
   "metadata": {},
   "source": [
    "### Hack 1 – Add Up Numbers\n",
    "\n",
    "Make a list of numbers. Write code to:\n",
    "1. Find the total sum.\n",
    "2. Find the average."
   ]
  },
  {
   "cell_type": "code",
   "execution_count": 1,
   "id": "9fc29a1a",
   "metadata": {
    "vscode": {
     "languageId": "javascript"
    }
   },
   "outputs": [
    {
     "data": {
      "application/javascript": "let numbers = [4, 7, 1, 9, 6, 7, 10];\n\n// Calculate total sum\nlet total = 0;\nfor (let i = 0; i < numbers.length; i++) {\n    total += numbers[i];\n}\n\n// Calculate average\nlet average = total / numbers.length;\n\nconsole.log(\"Total sum:\", total);\nconsole.log(\"Average:\", average);\n",
      "text/plain": [
       "<IPython.core.display.Javascript object>"
      ]
     },
     "metadata": {},
     "output_type": "display_data"
    }
   ],
   "source": [
    "%%js\n",
    "let numbers = [4, 7, 1, 9, 6, 7, 10];\n",
    "\n",
    "// Calculate total sum\n",
    "let total = 0;\n",
    "for (let i = 0; i < numbers.length; i++) {\n",
    "    total += numbers[i];\n",
    "}\n",
    "\n",
    "// Calculate average\n",
    "let average = total / numbers.length;\n",
    "\n",
    "console.log(\"Total sum:\", total);\n",
    "console.log(\"Average:\", average);"
   ]
  },
  {
   "cell_type": "markdown",
   "id": "519b9811",
   "metadata": {},
   "source": [
    "### Hack 2 – Count Repeats\n",
    "\n",
    "Make a list with repeated items. Write code to count how many times each item appears."
   ]
  },
  {
   "cell_type": "code",
   "execution_count": 2,
   "id": "b9e989ea",
   "metadata": {
    "vscode": {
     "languageId": "javascript"
    }
   },
   "outputs": [
    {
     "data": {
      "application/javascript": "let items = [\"cat\", \"dog\", \"cat\", \"bird\", \"bird\", \"bird\"];\n\n// Create an empty object to store counts\nlet counts = {};\n\n// Loop through the array and count occurrences\nfor (let i = 0; i < items.length; i++) {\n    let item = items[i];\n    if (counts[item]) {\n        counts[item] += 1;\n    } else {\n        counts[item] = 1;\n    }\n}\n\n// Print the counts\nconsole.log(counts);\n",
      "text/plain": [
       "<IPython.core.display.Javascript object>"
      ]
     },
     "metadata": {},
     "output_type": "display_data"
    }
   ],
   "source": [
    "%%js\n",
    "let items = [\"cat\", \"dog\", \"cat\", \"bird\", \"bird\", \"bird\"];\n",
    "\n",
    "// Create an empty object to store counts\n",
    "let counts = {};\n",
    "\n",
    "// Loop through the array and count occurrences\n",
    "for (let i = 0; i < items.length; i++) {\n",
    "    let item = items[i];\n",
    "    if (counts[item]) {\n",
    "        counts[item] += 1;\n",
    "    } else {\n",
    "        counts[item] = 1;\n",
    "    }\n",
    "}\n",
    "\n",
    "// Print the counts\n",
    "console.log(counts);\n"
   ]
  },
  {
   "cell_type": "markdown",
   "id": "800ed729",
   "metadata": {},
   "source": [
    "### Hack 3 – Keep Only Evens\n",
    "\n",
    "Make a list of numbers. Write code to create a new list with only even numbers."
   ]
  },
  {
   "cell_type": "code",
   "execution_count": 3,
   "id": "4f7fc860",
   "metadata": {
    "vscode": {
     "languageId": "javascript"
    }
   },
   "outputs": [
    {
     "data": {
      "application/javascript": "let numbers = [3, 8, 5, 12, 7, 9, 13, 31, 66, 18];\n\n// Create a new array to store even numbers\nlet evens = [];\n\n// Loop through the array and check for even numbers\nfor (let i = 0; i < numbers.length; i++) {\n    if (numbers[i] % 2 === 0) {\n        evens.push(numbers[i]);\n    }\n}\n\nconsole.log(\"Even numbers:\", evens);\n",
      "text/plain": [
       "<IPython.core.display.Javascript object>"
      ]
     },
     "metadata": {},
     "output_type": "display_data"
    }
   ],
   "source": [
    "%%js\n",
    "let numbers = [3, 8, 5, 12, 7, 9, 13, 31, 66, 18];\n",
    "\n",
    "// Create a new array to store even numbers\n",
    "let evens = [];\n",
    "\n",
    "// Loop through the array and check for even numbers\n",
    "for (let i = 0; i < numbers.length; i++) {\n",
    "    if (numbers[i] % 2 === 0) {\n",
    "        evens.push(numbers[i]);\n",
    "    }\n",
    "}\n",
    "\n",
    "console.log(\"Even numbers:\", evens);"
   ]
  }
 ],
 "metadata": {
  "kernelspec": {
   "display_name": "venv",
   "language": "python",
   "name": "python3"
  },
  "language_info": {
   "codemirror_mode": {
    "name": "ipython",
    "version": 3
   },
   "file_extension": ".py",
   "mimetype": "text/x-python",
   "name": "python",
   "nbconvert_exporter": "python",
   "pygments_lexer": "ipython3",
   "version": "3.13.7"
  }
 },
 "nbformat": 4,
 "nbformat_minor": 5
}
