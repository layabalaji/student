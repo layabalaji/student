{
 "cells": [
  {
   "cell_type": "code",
   "execution_count": null,
   "metadata": {
    "vscode": {
     "languageId": "yaml"
    }
   },
   "outputs": [],
   "source": [
    "---\n",
    "title: Random Values JS Lesson\n",
    "description: Learning about random values\n",
    "comments: false\n",
    "layout: post\n",
    "toc: true\n",
    "authors: Shayan B, Akhil K.\n",
    "permalink: /csp/big-idea-3/RandomJS/p3/Lesson\n",
    "---"
   ]
  },
  {
   "cell_type": "markdown",
   "metadata": {},
   "source": [
    "<style>\n",
    "/* 🎲 JS Random Values Lesson */\n",
    ".js-random {\n",
    "  background: linear-gradient(135deg, #0d0d1a, #001122, #001a33);\n",
    "  border: 2px solid #00f2fe;\n",
    "  border-radius: 14px;\n",
    "  padding: 28px;\n",
    "  margin: 30px auto;\n",
    "  max-width: 900px;\n",
    "  font-family: \"Segoe UI\", sans-serif;\n",
    "  color: #eaf9ff;\n",
    "  box-shadow: 0 0 25px rgba(0, 242, 254, 0.6);\n",
    "  line-height: 1.8em;\n",
    "}\n",
    "\n",
    ".js-random h1 {\n",
    "  font-size: 2em;\n",
    "  color: #00f2fe;\n",
    "  text-shadow: 0 0 12px rgba(0,242,254,1);\n",
    "  margin-bottom: 15px;\n",
    "}\n",
    "\n",
    ".js-random h2 {\n",
    "  color: #ff9800;\n",
    "  text-shadow: 0 0 8px rgba(255,152,0,0.8);\n",
    "  margin-top: 20px;\n",
    "}\n",
    "\n",
    ".js-random code {\n",
    "  background: #0a0a0a;\n",
    "  padding: 3px 7px;\n",
    "  border-radius: 6px;\n",
    "  color: #00f2fe;\n",
    "  font-family: \"Courier New\", monospace;\n",
    "  text-shadow: 0 0 6px rgba(0,242,254,0.9);\n",
    "}\n",
    "\n",
    "/* 🔹 Code box */\n",
    ".js-code {\n",
    "  background: #0d0d0d;\n",
    "  border-left: 4px solid #00f2fe;\n",
    "  padding: 12px;\n",
    "  margin: 15px 0;\n",
    "  border-radius: 6px;\n",
    "  font-family: \"Courier New\", monospace;\n",
    "  font-size: 0.95em;\n",
    "  color: #f1f1f1;\n",
    "  overflow-x: auto;\n",
    "  white-space: pre;\n",
    "  box-shadow: inset 0 0 10px rgba(0,242,254,0.2);\n",
    "}\n",
    "</style>\n",
    "\n",
    "<div class=\"js-random\">\n",
    "  <h1>🎲 3.15 Random Values</h1>\n",
    "\n",
    "  <p><b>Random Values</b> = unpredictable numbers (like rolling dice!)</p>\n",
    "\n",
    "  <hr>\n",
    "\n",
    "  <h2>🔥 The Magic Formula</h2>\n",
    "\n",
    "  <h3>Random number from 1 to 6 (like a dice)</h3>\n",
    "  <div class=\"js-code\">\n",
    "Math.floor(Math.random() * 6) + 1\n",
    "  </div>\n",
    "\n",
    "  <p><b>How it works:</b></p>\n",
    "  <ul>\n",
    "    <li><code>Math.random()</code> gives a decimal like 0.4827</li>\n",
    "    <li><code>* 6</code> makes it bigger: 2.8962</li>\n",
    "    <li><code>Math.floor()</code> chops off decimals: 2</li>\n",
    "    <li><code>+ 1</code> shifts it up: 3 ✅</li>\n",
    "  </ul>\n",
    "\n",
    "  <p><b>Want different numbers? Change the 6!</b></p>\n",
    "  <ul>\n",
    "    <li><code>Math.floor(Math.random() * 10) + 1</code> → 1 to 10</li>\n",
    "    <li><code>Math.floor(Math.random() * 100) + 1</code> → 1 to 100</li>\n",
    "  </ul>\n",
    "</div>\n"
   ]
  },
  {
   "cell_type": "code",
   "execution_count": null,
   "metadata": {
    "vscode": {
     "languageId": "javascript"
    }
   },
   "outputs": [],
   "source": [
    "%%javascript\n",
    "// 🎲 Roll a dice! Run this cell multiple times!\n",
    "\n",
    "const diceRoll = Math.floor(Math.random() * 6) + 1;\n",
    "console.log(`You rolled: ${diceRoll}`);"
   ]
  },
  {
   "cell_type": "markdown",
   "metadata": {},
   "source": [
    "---"
   ]
  },
  {
   "cell_type": "code",
   "execution_count": null,
   "metadata": {
    "vscode": {
     "languageId": "javascript"
    }
   },
   "outputs": [],
   "source": [
    "%%javascript\n",
    "// 🎯 Try it yourself! Change the numbers\n",
    "\n",
    "// Random number 1-10\n",
    "const random10 = Math.floor(Math.random() * 10) + 1;\n",
    "console.log(`Random 1-10: ${random10}`);\n",
    "\n",
    "// Random number 1-100\n",
    "const random100 = Math.floor(Math.random() * 100) + 1;\n",
    "console.log(`Random 1-100: ${random100}`);"
   ]
  },
  {
   "cell_type": "markdown",
   "metadata": {},
   "source": [
    "<style>\n",
    "/* 🎮 Random Choice Box */\n",
    ".js-random-choice {\n",
    "  background: linear-gradient(135deg, #0d0d1a, #001122, #001a33);\n",
    "  border: 2px solid #00f2fe;\n",
    "  border-radius: 14px;\n",
    "  padding: 28px;\n",
    "  margin: 30px auto;\n",
    "  max-width: 900px;\n",
    "  font-family: \"Segoe UI\", sans-serif;\n",
    "  color: #eaf9ff;\n",
    "  box-shadow: 0 0 25px rgba(0, 242, 254, 0.6);\n",
    "  line-height: 1.8em;\n",
    "}\n",
    "\n",
    ".js-random-choice h2 {\n",
    "  color: #ff4081;\n",
    "  text-shadow: 0 0 10px rgba(255,64,129,0.9);\n",
    "  margin-bottom: 12px;\n",
    "}\n",
    "\n",
    ".js-random-choice code {\n",
    "  background: #0a0a0a;\n",
    "  padding: 3px 7px;\n",
    "  border-radius: 6px;\n",
    "  color: #00f2fe;\n",
    "  font-family: \"Courier New\", monospace;\n",
    "  text-shadow: 0 0 6px rgba(0,242,254,0.9);\n",
    "}\n",
    "\n",
    "/* 💻 Code Block */\n",
    ".js-code {\n",
    "  background: #0d0d0d;\n",
    "  border-left: 4px solid #00f2fe;\n",
    "  padding: 12px;\n",
    "  margin: 15px 0;\n",
    "  border-radius: 6px;\n",
    "  font-family: \"Courier New\", monospace;\n",
    "  font-size: 0.95em;\n",
    "  color: #f1f1f1;\n",
    "  overflow-x: auto;\n",
    "  white-space: pre;\n",
    "  box-shadow: inset 0 0 10px rgba(0,242,254,0.2);\n",
    "}\n",
    "</style>\n",
    "\n",
    "<div class=\"js-random-choice\">\n",
    "  <h2>🎮 Random Choice from a List</h2>\n",
    "\n",
    "  <p>Pick one random item from an array:</p>\n",
    "\n",
    "  <div class=\"js-code\">\n",
    "const colors = [\"red\", \"blue\", \"green\"];\n",
    "const randomColor = colors[Math.floor(Math.random() * colors.length)];\n",
    "  </div>\n",
    "\n",
    "  <p><b>The trick:</b> <code>colors.length</code> tells you how many items (3),  \n",
    "  so you get 0, 1, or 2!</p>\n",
    "</div>\n"
   ]
  },
  {
   "cell_type": "code",
   "execution_count": null,
   "metadata": {
    "vscode": {
     "languageId": "javascript"
    }
   },
   "outputs": [],
   "source": [
    "%%js\n",
    "\n",
    "// 🎨 Pick a random color!\n",
    "\n",
    "const colors = [\"🔴 Red\", \"🔵 Blue\", \"🟢 Green\", \"🟡 Yellow\"];\n",
    "const randomColor = colors[Math.floor(Math.random() * colors.length)];\n",
    "console.log(`You got: ${randomColor}`);\n",
    "\n",
    "// Run multiple times to see different colors!"
   ]
  },
  {
   "cell_type": "markdown",
   "metadata": {},
   "source": [
    "<style>\n",
    "/* 🎯 Coin Flip Section */\n",
    ".js-coinflip {\n",
    "  background: linear-gradient(135deg, #0d0d1a, #001122, #001a33);\n",
    "  border: 2px solid #00f2fe;\n",
    "  border-radius: 14px;\n",
    "  padding: 28px;\n",
    "  margin: 30px auto;\n",
    "  max-width: 900px;\n",
    "  font-family: \"Segoe UI\", sans-serif;\n",
    "  color: #eaf9ff;\n",
    "  box-shadow: 0 0 25px rgba(0, 242, 254, 0.6);\n",
    "  line-height: 1.8em;\n",
    "}\n",
    "\n",
    ".js-coinflip h2 {\n",
    "  color: #ffeb3b;\n",
    "  text-shadow: 0 0 12px rgba(255,235,59,0.9);\n",
    "  margin-bottom: 12px;\n",
    "}\n",
    "\n",
    ".js-coinflip code {\n",
    "  background: #0a0a0a;\n",
    "  padding: 3px 7px;\n",
    "  border-radius: 6px;\n",
    "  color: #00f2fe;\n",
    "  font-family: \"Courier New\", monospace;\n",
    "  text-shadow: 0 0 6px rgba(0,242,254,0.9);\n",
    "}\n",
    "\n",
    "/* 💻 Code Block */\n",
    ".js-code {\n",
    "  background: #0d0d0d;\n",
    "  border-left: 4px solid #00f2fe;\n",
    "  padding: 12px;\n",
    "  margin: 15px 0;\n",
    "  border-radius: 6px;\n",
    "  font-family: \"Courier New\", monospace;\n",
    "  font-size: 0.95em;\n",
    "  color: #f1f1f1;\n",
    "  overflow-x: auto;\n",
    "  white-space: pre;\n",
    "  box-shadow: inset 0 0 10px rgba(0,242,254,0.2);\n",
    "}\n",
    "</style>\n",
    "\n",
    "<div class=\"js-coinflip\">\n",
    "  <h2>🎯 50/50 Chance (Coin Flip)</h2>\n",
    "\n",
    "  <div class=\"js-code\">\n",
    "if (Math.random() &lt; 0.5) {\n",
    "    console.log(\"Heads\");  // 50% chance\n",
    "} else {\n",
    "    console.log(\"Tails\");  // 50% chance\n",
    "}\n",
    "  </div>\n",
    "\n",
    "  <p><b>Why 0.5?</b> <code>Math.random()</code> gives values from 0 to 0.999...,  \n",
    "  so half the time it’s less than 0.5!</p>\n",
    "</div>\n"
   ]
  },
  {
   "cell_type": "code",
   "execution_count": null,
   "metadata": {
    "vscode": {
     "languageId": "javascript"
    }
   },
   "outputs": [],
   "source": [
    "%%js\n",
    "\n",
    "// 🪙 Flip a coin!\n",
    "\n",
    "if (Math.random() < 0.5) {\n",
    "    console.log(\"🪙 Heads!\");\n",
    "} else {\n",
    "    console.log(\"🪙 Tails!\");\n",
    "}\n",
    "\n",
    "// Run it 10 times - you'll get about 5 heads and 5 tails!"
   ]
  },
  {
   "cell_type": "markdown",
   "metadata": {},
   "source": [
    "<style>\n",
    "/* 🎁 Loot Box Challenge */\n",
    ".js-lootbox {\n",
    "  background: linear-gradient(135deg, #0d0d1a, #111133, #220044);\n",
    "  border: 2px solid #9c27b0;\n",
    "  border-radius: 14px;\n",
    "  padding: 28px;\n",
    "  margin: 30px auto;\n",
    "  max-width: 900px;\n",
    "  font-family: \"Segoe UI\", sans-serif;\n",
    "  color: #f3eaff;\n",
    "  box-shadow: 0 0 30px rgba(156,39,176,0.6);\n",
    "  line-height: 1.8em;\n",
    "}\n",
    "\n",
    ".js-lootbox h2 {\n",
    "  color: #e040fb;\n",
    "  text-shadow: 0 0 14px rgba(224,64,251,1);\n",
    "  margin-bottom: 12px;\n",
    "}\n",
    "\n",
    ".js-lootbox ul {\n",
    "  margin-top: 12px;\n",
    "  list-style: none;\n",
    "  padding-left: 0;\n",
    "}\n",
    "\n",
    ".js-lootbox li {\n",
    "  margin: 6px 0;\n",
    "  padding-left: 8px;\n",
    "  font-weight: bold;\n",
    "}\n",
    "\n",
    "/* Rarity Colors */\n",
    ".common { color: #9e9e9e; text-shadow: 0 0 8px rgba(158,158,158,0.6); }\n",
    ".rare { color: #2196f3; text-shadow: 0 0 8px rgba(33,150,243,0.9); }\n",
    ".legendary { color: #ff9800; text-shadow: 0 0 12px rgba(255,152,0,1); }\n",
    "</style>\n",
    "\n",
    "<div class=\"js-lootbox\">\n",
    "  <h2>🎁 Challenge: Loot Box!</h2>\n",
    "  <p>\n",
    "    Use <code>Math.random()</code> to make a simple game where you have different chances:\n",
    "  </p>\n",
    "  <ul>\n",
    "    <li class=\"common\">70% chance = Common</li>\n",
    "    <li class=\"rare\">25% chance = Rare</li>\n",
    "    <li class=\"legendary\">5% chance = Legendary</li>\n",
    "  </ul>\n",
    "</div>\n"
   ]
  },
  {
   "cell_type": "code",
   "execution_count": 42,
   "metadata": {
    "vscode": {
     "languageId": "javascript"
    }
   },
   "outputs": [
    {
     "data": {
      "application/javascript": "// 🎁 Open a loot box!\n\nconst chance = Math.random();  // Get random number 0 to 0.999...\n\nif (chance < 0.70) {\n    console.log(\"⚪ Common Item\");  // 0 to 0.70 = 70%\n} else if (chance < 0.95) {\n    console.log(\"🔵 Rare Item\");   // 0.70 to 0.95 = 25%\n} else {\n    console.log(\"🟡 Legendary!\");  // 0.95 to 1 = 5%\n}\n\n// Run this many times - legendary is rare!\n",
      "text/plain": [
       "<IPython.core.display.Javascript object>"
      ]
     },
     "metadata": {},
     "output_type": "display_data"
    }
   ],
   "source": [
    "%%javascript\n",
    "// 🎁 Open a loot box!\n",
    "\n",
    "const chance = Math.random();  // Get random number 0 to 0.999...\n",
    "\n",
    "if (chance < 0.70) {\n",
    "    console.log(\"⚪ Common Item\");  // 0 to 0.70 = 70%\n",
    "} else if (chance < 0.95) {\n",
    "    console.log(\"🔵 Rare Item\");   // 0.70 to 0.95 = 25%\n",
    "} else {\n",
    "    console.log(\"🟡 Legendary!\");  // 0.95 to 1 = 5%\n",
    "}\n",
    "\n",
    "// Run this many times - legendary is rare!"
   ]
  }
 ],
 "metadata": {
  "kernelspec": {
   "display_name": "Python 3",
   "language": "python",
   "name": "python3"
  },
  "language_info": {
   "codemirror_mode": {
    "name": "ipython",
    "version": 3
   },
   "file_extension": ".py",
   "mimetype": "text/x-python",
   "name": "python",
   "nbconvert_exporter": "python",
   "pygments_lexer": "ipython3",
   "version": "3.13.1"
  }
 },
 "nbformat": 4,
 "nbformat_minor": 2
}
