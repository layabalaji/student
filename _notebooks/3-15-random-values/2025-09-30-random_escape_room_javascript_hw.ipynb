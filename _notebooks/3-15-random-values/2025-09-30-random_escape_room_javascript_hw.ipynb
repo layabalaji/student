{
 "cells": [
  {
   "cell_type": "markdown",
   "id": "cbbfb22c",
   "metadata": {},
   "source": [
    "---\n",
    "layout: post\n",
    "title: \"Escape Room 3.15 - Hack\"\n",
    "description: \"Extended Javascript challenges and hacks for CSP 3.15 Escape Room - Random Values\"\n",
    "type: hacks\n",
    "toc: true\n",
    "comments: true\n",
    "permalink: /3.15/homework/javascript\n",
    "author: Team Debuggers\n",
    "---"
   ]
  },
  {
   "cell_type": "markdown",
   "id": "9f78ed1b",
   "metadata": {},
   "source": [
    "# 🚀 Escape Room Javascript Hacks"
   ]
  },
  {
   "cell_type": "markdown",
   "id": "8272187c",
   "metadata": {
    "vscode": {
     "languageId": "javascript"
    }
   },
   "source": [
    "1. Simulate drawing two random cards, where each card has a value between 1 and 10. Show the two card values and their total.\n"
   ]
  },
  {
   "cell_type": "code",
   "execution_count": 2,
   "id": "78a936d8",
   "metadata": {
    "vscode": {
     "languageId": "javascript"
    }
   },
   "outputs": [
    {
     "data": {
      "application/javascript": "let card1 = Math.floor(Math.random() * 10) + 1;\n\n// Generate a random value between 1 and 10 for the second card\nlet card2 = Math.floor(Math.random() * 10) + 1;\n\n// Add the two card values together\nlet total = card1 + card2;\n\n// Print out the results\nconsole.log(\"Card 1:\", card1);\nconsole.log(\"Card 2:\", card2);\nconsole.log(\"Total:\", total);\n\n",
      "text/plain": [
       "<IPython.core.display.Javascript object>"
      ]
     },
     "metadata": {},
     "output_type": "display_data"
    }
   ],
   "source": [
    "%%js\n",
    "let card1 = Math.floor(Math.random() * 10) + 1;\n",
    "\n",
    "// Generate a random value between 1 and 10 for the second card\n",
    "let card2 = Math.floor(Math.random() * 10) + 1;\n",
    "\n",
    "// Add the two card values together\n",
    "let total = card1 + card2;\n",
    "\n",
    "// Print out the results\n",
    "console.log(\"Card 1:\", card1);\n",
    "console.log(\"Card 2:\", card2);\n",
    "console.log(\"Total:\", total);\n",
    "\n"
   ]
  },
  {
   "cell_type": "markdown",
   "id": "1d1e615b",
   "metadata": {},
   "source": [
    "2. Create a decision maker where \"Definitely\" appears 30% of the time"
   ]
  },
  {
   "cell_type": "code",
   "execution_count": 3,
   "id": "ccb86ba7",
   "metadata": {
    "vscode": {
     "languageId": "javascript"
    }
   },
   "outputs": [
    {
     "data": {
      "application/javascript": "let rand = Math.floor(Math.random() * 100) + 1;\n\n// Use an if statement to make \"Definitely\" appear 30% of the time\nif (rand <= 30) {\n  console.log(\"Definitely\");\n} else {\n  console.log(\"Not this time\");\n}\n",
      "text/plain": [
       "<IPython.core.display.Javascript object>"
      ]
     },
     "metadata": {},
     "output_type": "display_data"
    }
   ],
   "source": [
    "%%js\n",
    "let rand = Math.floor(Math.random() * 100) + 1;\n",
    "\n",
    "// Use an if statement to make \"Definitely\" appear 30% of the time\n",
    "if (rand <= 30) {\n",
    "  console.log(\"Definitely\");\n",
    "} else {\n",
    "  console.log(\"Not this time\");\n",
    "}\n"
   ]
  },
  {
   "cell_type": "markdown",
   "id": "3a1307fb",
   "metadata": {},
   "source": [
    "3. Simulate one coin flip and one dice roll.\n",
    "\n",
    "- The coin flip should be 0 = Heads or 1 = Tails.\n",
    "\n",
    "- The dice roll should be a number between 1 and 6.\n",
    "\n",
    "- Print out both results."
   ]
  },
  {
   "cell_type": "code",
   "execution_count": 4,
   "id": "5757bb69",
   "metadata": {
    "vscode": {
     "languageId": "javascript"
    }
   },
   "outputs": [
    {
     "data": {
      "application/javascript": "let coin = Math.floor(Math.random() * 2);\n\n// Print out the coin flip result\nconsole.log(\"Coin flip:\", coin === 0 ? \"Heads\" : \"Tails\");\n\n// Generate a random value between 1 and 6 for the dice\nlet dice = Math.floor(Math.random() * 6) + 1;\n\n// Print out the dice roll result\nconsole.log(\"Dice roll:\", dice);\n\n",
      "text/plain": [
       "<IPython.core.display.Javascript object>"
      ]
     },
     "metadata": {},
     "output_type": "display_data"
    }
   ],
   "source": [
    "%%js\n",
    "let coin = Math.floor(Math.random() * 2);\n",
    "\n",
    "// Print out the coin flip result\n",
    "console.log(\"Coin flip:\", coin === 0 ? \"Heads\" : \"Tails\");\n",
    "\n",
    "// Generate a random value between 1 and 6 for the dice\n",
    "let dice = Math.floor(Math.random() * 6) + 1;\n",
    "\n",
    "// Print out the dice roll result\n",
    "console.log(\"Dice roll:\", dice);\n",
    "\n"
   ]
  },
  {
   "cell_type": "markdown",
   "id": "8b49e277",
   "metadata": {},
   "source": [
    "4. Write code that randomly picks one fortune from a list of 5 possible fortunes and prints it out."
   ]
  },
  {
   "cell_type": "code",
   "execution_count": 6,
   "id": "dd613a02",
   "metadata": {
    "vscode": {
     "languageId": "javascript"
    }
   },
   "outputs": [
    {
     "data": {
      "application/javascript": "let fortunes = [\n  \"Good news is coming your way!\",\n  \"A surprise awaits you soon.\",\n  \"You will achieve your goals.\",\n  \"Take a chance today.\",\n  \"Happiness is closer than you think.\"\n];\n\n// Pick a random index\nlet index = Math.floor(Math.random() * fortunes.length);\n\n// Print out the fortune at that index\nconsole.log(\"Your fortune:\", fortunes[index]);\n\n",
      "text/plain": [
       "<IPython.core.display.Javascript object>"
      ]
     },
     "metadata": {},
     "output_type": "display_data"
    }
   ],
   "source": [
    "%%js\n",
    "let fortunes = [\n",
    "  \"Good news is coming your way!\",\n",
    "  \"A surprise awaits you soon.\",\n",
    "  \"You will achieve your goals.\",\n",
    "  \"Take a chance today.\",\n",
    "  \"Happiness is closer than you think.\"\n",
    "];\n",
    "\n",
    "// Pick a random index\n",
    "let index = Math.floor(Math.random() * fortunes.length);\n",
    "\n",
    "// Print out the fortune at that index\n",
    "console.log(\"Your fortune:\", fortunes[index]);\n",
    "\n"
   ]
  }
 ],
 "metadata": {
  "kernelspec": {
   "display_name": "venv",
   "language": "python",
   "name": "python3"
  },
  "language_info": {
   "codemirror_mode": {
    "name": "ipython",
    "version": 3
   },
   "file_extension": ".py",
   "mimetype": "text/x-python",
   "name": "python",
   "nbconvert_exporter": "python",
   "pygments_lexer": "ipython3",
   "version": "3.13.7"
  }
 },
 "nbformat": 4,
 "nbformat_minor": 5
}
