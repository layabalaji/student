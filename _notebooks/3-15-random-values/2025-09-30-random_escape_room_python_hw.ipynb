{
 "cells": [
  {
   "cell_type": "raw",
   "id": "6e07d1a7",
   "metadata": {
    "vscode": {
     "languageId": "raw"
    }
   },
   "source": [
    "---\n",
    "layout: post\n",
    "title: \"Escape Room 3.15 - Hacks & Extensions\"\n",
    "description: \"Extended Python challenges and hacks for CSP 3.15 Escape Room - Random Values\"\n",
    "type: hacks\n",
    "toc: true\n",
    "comments: true\n",
    "permalink: /3.15/homework/python\n",
    "author: Team Debuggers\n",
    "---\n"
   ]
  },
  {
   "cell_type": "markdown",
   "id": "9f874417",
   "metadata": {},
   "source": [
    "# 🚀 Escape Room Python Hacks\n"
   ]
  },
  {
   "cell_type": "markdown",
   "id": "7aedbe34",
   "metadata": {},
   "source": [
    "1. Simulate rolling two dice and show all possible sums of their outcomes."
   ]
  },
  {
   "cell_type": "code",
   "execution_count": 4,
   "id": "a73638bf",
   "metadata": {},
   "outputs": [
    {
     "name": "stdout",
     "output_type": "stream",
     "text": [
      "Rolls: 1 + 1 = 2\n",
      "Rolls: 1 + 2 = 3\n",
      "Rolls: 1 + 3 = 4\n",
      "Rolls: 1 + 4 = 5\n",
      "Rolls: 1 + 5 = 6\n",
      "Rolls: 1 + 6 = 7\n",
      "Rolls: 2 + 1 = 3\n",
      "Rolls: 2 + 2 = 4\n",
      "Rolls: 2 + 3 = 5\n",
      "Rolls: 2 + 4 = 6\n",
      "Rolls: 2 + 5 = 7\n",
      "Rolls: 2 + 6 = 8\n",
      "Rolls: 3 + 1 = 4\n",
      "Rolls: 3 + 2 = 5\n",
      "Rolls: 3 + 3 = 6\n",
      "Rolls: 3 + 4 = 7\n",
      "Rolls: 3 + 5 = 8\n",
      "Rolls: 3 + 6 = 9\n",
      "Rolls: 4 + 1 = 5\n",
      "Rolls: 4 + 2 = 6\n",
      "Rolls: 4 + 3 = 7\n",
      "Rolls: 4 + 4 = 8\n",
      "Rolls: 4 + 5 = 9\n",
      "Rolls: 4 + 6 = 10\n",
      "Rolls: 5 + 1 = 6\n",
      "Rolls: 5 + 2 = 7\n",
      "Rolls: 5 + 3 = 8\n",
      "Rolls: 5 + 4 = 9\n",
      "Rolls: 5 + 5 = 10\n",
      "Rolls: 5 + 6 = 11\n",
      "Rolls: 6 + 1 = 7\n",
      "Rolls: 6 + 2 = 8\n",
      "Rolls: 6 + 3 = 9\n",
      "Rolls: 6 + 4 = 10\n",
      "Rolls: 6 + 5 = 11\n",
      "Rolls: 6 + 6 = 12\n"
     ]
    }
   ],
   "source": [
    "# 🎲 Die faces: 1, 2, 3, 4, 5, 6\n",
    "# Simulate rolling two dice and show all possible sums\n",
    "\n",
    "for die1 in range(1, 7):\n",
    "    for die2 in range(1, 7):\n",
    "        print(f\"Rolls: {die1} + {die2} = {die1 + die2}\")\n",
    "\n"
   ]
  },
  {
   "cell_type": "markdown",
   "id": "323ac43a",
   "metadata": {},
   "source": [
    "2. Create a fortune teller program. The response \"Try Again\" should appear 40% of the time, while the other possible responses are \"Yes\", \"No\", and \"Maybe\"."
   ]
  },
  {
   "cell_type": "code",
   "execution_count": 3,
   "id": "c608c7e8",
   "metadata": {},
   "outputs": [
    {
     "name": "stdout",
     "output_type": "stream",
     "text": [
      "Yes\n"
     ]
    }
   ],
   "source": [
    "import random\n",
    "\n",
    "# 🔮 Fortune Teller\n",
    "num = random.randint(1, 100)\n",
    "\n",
    "if num <= 40:              # 40% chance\n",
    "    print(\"Try Again\")\n",
    "elif num <= 65:            # next 25%\n",
    "    print(\"Yes\")\n",
    "elif num <= 85:            # next 20%\n",
    "    print(\"No\")\n",
    "else:                      # remaining 15%\n",
    "    print(\"Maybe\")\n",
    "\n"
   ]
  },
  {
   "cell_type": "markdown",
   "id": "f5f6ad02",
   "metadata": {},
   "source": [
    "3. Create a program that randomly selects a meal from a menu list. For example: \"Pizza\", \"Burger\", \"Salad\", \"Pasta\", \"Sushi\"."
   ]
  },
  {
   "cell_type": "code",
   "execution_count": 2,
   "id": "623d5cec",
   "metadata": {},
   "outputs": [
    {
     "name": "stdout",
     "output_type": "stream",
     "text": [
      "Today's meal is: Pasta\n"
     ]
    }
   ],
   "source": [
    "import random\n",
    "\n",
    "# 🍔 Menu list of meals\n",
    "meals = [\"Pizza\", \"Burger\", \"Salad\", \"Pasta\", \"Sushi\"]\n",
    "\n",
    "# TODO: Pick one random meal from the list\n",
    "meal = random.choice(meals)\n",
    "print(\"Today's meal is:\", meal)\n"
   ]
  },
  {
   "cell_type": "markdown",
   "id": "e230199d",
   "metadata": {},
   "source": [
    "4. Practice using random.choice() and random.shuffle().\n",
    "\n",
    "- Use random.choice() to select one random card from a deck.\n",
    "\n",
    "- Use random.shuffle() to shuffle the entire deck."
   ]
  },
  {
   "cell_type": "code",
   "execution_count": 1,
   "id": "9efcd451",
   "metadata": {},
   "outputs": [
    {
     "name": "stdout",
     "output_type": "stream",
     "text": [
      "Random card picked: 7\n",
      "Shuffled deck: [8, 4, 5, 7, 3, 1, 9, 2, 10, 6]\n"
     ]
    }
   ],
   "source": [
    "import random\n",
    "\n",
    "# 🃏 Deck of cards (simplified as numbers 1–10 for this example)\n",
    "deck = [1, 2, 3, 4, 5, 6, 7, 8, 9, 10]\n",
    "\n",
    "# Use random.choice() to pick one card\n",
    "card = random.choice(deck)\n",
    "print(\"Random card picked:\", card)\n",
    "\n",
    "# Use random.shuffle() to shuffle the deck and print it\n",
    "random.shuffle(deck)\n",
    "print(\"Shuffled deck:\", deck)\n",
    "\n"
   ]
  }
 ],
 "metadata": {
  "kernelspec": {
   "display_name": "venv",
   "language": "python",
   "name": "python3"
  },
  "language_info": {
   "codemirror_mode": {
    "name": "ipython",
    "version": 3
   },
   "file_extension": ".py",
   "mimetype": "text/x-python",
   "name": "python",
   "nbconvert_exporter": "python",
   "pygments_lexer": "ipython3",
   "version": "3.13.7"
  }
 },
 "nbformat": 4,
 "nbformat_minor": 5
}
