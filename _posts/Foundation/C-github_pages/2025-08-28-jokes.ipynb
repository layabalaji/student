{
 "cells": [
  {
   "cell_type": "code",
   "execution_count": 1,
   "id": "1dadc16f",
   "metadata": {},
   "outputs": [
    {
     "name": "stdout",
     "output_type": "stream",
     "text": [
      "Why did the chicken cross the road? To get to the other side!I told my computer I needed a break, and now it won't stop sending me Kit-Kats.Why don't scientists trust atoms? Because they make up everything!\n"
     ]
    }
   ],
   "source": [
    "import random\n",
    "\n",
    "jokes = [\n",
    "    \"Why did the chicken cross the road? To get to the other side!\"\n",
    "    \"I told my computer I needed a break, and now it won't stop sending me Kit-Kats.\"\n",
    "    \"Why don't scientists trust atoms? Because they make up everything!\"\n",
    "]\n",
    "\n",
    "print(random.choice(jokes))"
   ]
  }
 ],
 "metadata": {
  "kernelspec": {
   "display_name": "venv",
   "language": "python",
   "name": "python3"
  },
  "language_info": {
   "codemirror_mode": {
    "name": "ipython",
    "version": 3
   },
   "file_extension": ".py",
   "mimetype": "text/x-python",
   "name": "python",
   "nbconvert_exporter": "python",
   "pygments_lexer": "ipython3",
   "version": "3.13.7"
  }
 },
 "nbformat": 4,
 "nbformat_minor": 5
}
